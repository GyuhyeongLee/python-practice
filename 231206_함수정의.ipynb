{
 "cells": [
  {
   "cell_type": "markdown",
   "metadata": {
    "isInteractiveWindowMessageCell": true
   },
   "source": [
    "Python 3.12.0에 연결됨"
   ]
  },
  {
   "cell_type": "code",
   "execution_count": 1,
   "metadata": {},
   "outputs": [],
   "source": [
    "# 함수 : 입력 값을 받아서 결과를 만들어주는 것"
   ]
  },
  {
   "cell_type": "code",
   "execution_count": 2,
   "metadata": {},
   "outputs": [],
   "source": [
    "파이썬내장함수 = {\n",
    "    'len' : ('컬렉션 객체의 항목 수를 리턴', 'len(\"hello\")'),\n",
    "    'sum' : ('컬렉션 객체에 대한 합을 리턴','sum([1,2,3,4])'),\n",
    "    'abs' : ('절대값을 리턴','abs(-1)'),\n",
    "    'round' : ('반올림 값을 리턴','round(5.5)')\n",
    "}"
   ]
  },
  {
   "cell_type": "code",
   "execution_count": 3,
   "metadata": {},
   "outputs": [],
   "source": [
    "파이썬함수정의규칙 = [\n",
    "    'def 키워드를 사용하여 함수를 만들 수 있음',\n",
    "    '함수의 이름이 필요함',\n",
    "    '함수의 입력이 있는 경우 입력 값들을 바인딩할 변수를 적어 줌',\n",
    "    '들여쓰기 후 수행할 문장을 기술'\n",
    "]"
   ]
  },
  {
   "cell_type": "code",
   "execution_count": 5,
   "metadata": {},
   "outputs": [],
   "source": [
    "def 별찍기() :\n",
    "    print('*'*30)\n",
    "    print('')\n",
    "    print('*'*30)"
   ]
  },
  {
   "cell_type": "code",
   "execution_count": 7,
   "metadata": {},
   "outputs": [
    {
     "name": "stdout",
     "output_type": "stream",
     "text": [
      "******************************\n",
      "\n",
      "******************************\n"
     ]
    }
   ],
   "source": [
    "print('*'*30)\n",
    "print('')\n",
    "print('*'*30)"
   ]
  },
  {
   "cell_type": "code",
   "execution_count": 8,
   "metadata": {},
   "outputs": [],
   "source": [
    "def 별찍기():\n",
    "    print('*'*30)\n",
    "    print('')\n",
    "    print('*'*30)"
   ]
  },
  {
   "cell_type": "code",
   "execution_count": 10,
   "metadata": {},
   "outputs": [],
   "source": [
    "변수와함수 = {\n",
    "    '변수' : '값에 대한 이름표',\n",
    "    '함수' : '어떤 코드에 대한 이름표'\n",
    "}"
   ]
  },
  {
   "cell_type": "code",
   "execution_count": 11,
   "metadata": {},
   "outputs": [
    {
     "name": "stdout",
     "output_type": "stream",
     "text": [
      "******************************\n",
      "\n",
      "******************************\n"
     ]
    }
   ],
   "source": [
    "별찍기()"
   ]
  },
  {
   "cell_type": "code",
   "execution_count": 12,
   "metadata": {},
   "outputs": [
    {
     "data": {
      "text/plain": [
       "4481088096"
      ]
     },
     "execution_count": 12,
     "metadata": {},
     "output_type": "execute_result"
    }
   ],
   "source": [
    "id(별찍기)"
   ]
  },
  {
   "cell_type": "code",
   "execution_count": 13,
   "metadata": {},
   "outputs": [],
   "source": [
    "def 작별인사() :\n",
    "    print('안녕히 가세요')"
   ]
  },
  {
   "cell_type": "code",
   "execution_count": 14,
   "metadata": {},
   "outputs": [
    {
     "name": "stdout",
     "output_type": "stream",
     "text": [
      "안녕히 가세요\n"
     ]
    }
   ],
   "source": [
    "작별인사()"
   ]
  },
  {
   "cell_type": "code",
   "execution_count": 15,
   "metadata": {},
   "outputs": [],
   "source": [
    "def 매수() :\n",
    "    print('비트코인 매수')"
   ]
  },
  {
   "cell_type": "code",
   "execution_count": 16,
   "metadata": {},
   "outputs": [
    {
     "name": "stdout",
     "output_type": "stream",
     "text": [
      "비트코인 매수\n"
     ]
    }
   ],
   "source": [
    "매수()"
   ]
  },
  {
   "cell_type": "code",
   "execution_count": 17,
   "metadata": {},
   "outputs": [],
   "source": [
    "def mysum(a,b) : \n",
    "    print(a+b)"
   ]
  },
  {
   "cell_type": "code",
   "execution_count": 18,
   "metadata": {},
   "outputs": [
    {
     "name": "stdout",
     "output_type": "stream",
     "text": [
      "4\n"
     ]
    }
   ],
   "source": [
    "mysum(1,3)"
   ]
  },
  {
   "cell_type": "code",
   "execution_count": 19,
   "metadata": {},
   "outputs": [
    {
     "name": "stdout",
     "output_type": "stream",
     "text": [
      "aabb\n"
     ]
    }
   ],
   "source": [
    "mysum('aa','bb')"
   ]
  },
  {
   "cell_type": "code",
   "execution_count": 20,
   "metadata": {},
   "outputs": [],
   "source": [
    "def average(a,b) :\n",
    "    print((a+b) % 2)"
   ]
  },
  {
   "cell_type": "code",
   "execution_count": 21,
   "metadata": {},
   "outputs": [
    {
     "name": "stdout",
     "output_type": "stream",
     "text": [
      "0\n"
     ]
    }
   ],
   "source": [
    "average(80,20)"
   ]
  },
  {
   "cell_type": "code",
   "execution_count": 22,
   "metadata": {},
   "outputs": [],
   "source": [
    "def average(a,b) :\n",
    "    print((a+b) / 2)"
   ]
  },
  {
   "cell_type": "code",
   "execution_count": 23,
   "metadata": {},
   "outputs": [
    {
     "name": "stdout",
     "output_type": "stream",
     "text": [
      "50.0\n"
     ]
    }
   ],
   "source": [
    "average(20,80)"
   ]
  },
  {
   "cell_type": "code",
   "execution_count": 24,
   "metadata": {},
   "outputs": [],
   "source": [
    "def mymin(a,b) :\n",
    "    if a < b :\n",
    "        print(a)\n",
    "    else :\n",
    "        print(b)"
   ]
  },
  {
   "cell_type": "code",
   "execution_count": 25,
   "metadata": {},
   "outputs": [
    {
     "name": "stdout",
     "output_type": "stream",
     "text": [
      "3749\n"
     ]
    }
   ],
   "source": [
    "mymin(4678,3749)"
   ]
  },
  {
   "cell_type": "code",
   "execution_count": 26,
   "metadata": {},
   "outputs": [],
   "source": [
    "def mymax(a,b) : \n",
    "    if a>b : \n",
    "        print(a)\n",
    "    else :\n",
    "        print(b)"
   ]
  },
  {
   "cell_type": "code",
   "execution_count": 27,
   "metadata": {},
   "outputs": [
    {
     "name": "stdout",
     "output_type": "stream",
     "text": [
      "101\n"
     ]
    }
   ],
   "source": [
    "mymax(100,101)"
   ]
  },
  {
   "cell_type": "code",
   "execution_count": 28,
   "metadata": {},
   "outputs": [],
   "source": [
    "def 매수(코인) :\n",
    "    print(코인,'매수')"
   ]
  },
  {
   "cell_type": "code",
   "execution_count": 30,
   "metadata": {},
   "outputs": [
    {
     "name": "stdout",
     "output_type": "stream",
     "text": [
      "이더리움 매수\n"
     ]
    }
   ],
   "source": [
    "매수('이더리움')"
   ]
  },
  {
   "cell_type": "code",
   "execution_count": 31,
   "metadata": {},
   "outputs": [],
   "source": [
    "def 코인이름만출력(ticker) :\n",
    "    ticker.split('-')[0]\n",
    "    print(ticker)"
   ]
  },
  {
   "cell_type": "code",
   "execution_count": 32,
   "metadata": {},
   "outputs": [
    {
     "name": "stdout",
     "output_type": "stream",
     "text": [
      "BTC-KRW\n"
     ]
    }
   ],
   "source": [
    "코인이름만출력('BTC-KRW')"
   ]
  },
  {
   "cell_type": "code",
   "execution_count": 33,
   "metadata": {},
   "outputs": [],
   "source": [
    "def 코인이름만출력(ticker) :\n",
    "    진짜코인이름 = ticker.split('-')[0]\n",
    "    print(진짜코인이름)"
   ]
  },
  {
   "cell_type": "code",
   "execution_count": 34,
   "metadata": {},
   "outputs": [
    {
     "name": "stdout",
     "output_type": "stream",
     "text": [
      "BTC\n"
     ]
    }
   ],
   "source": [
    "코인이름만출력('BTC-KRW')"
   ]
  },
  {
   "cell_type": "code",
   "execution_count": 35,
   "metadata": {},
   "outputs": [],
   "source": [
    "def 코인이름만출력(ticker) :\n",
    "    진짜코인이름 = ticker.split('-')[0]\n",
    "    print(진짜코인이름.upper())"
   ]
  },
  {
   "cell_type": "code",
   "execution_count": 36,
   "metadata": {},
   "outputs": [
    {
     "name": "stdout",
     "output_type": "stream",
     "text": [
      "BTC\n"
     ]
    }
   ],
   "source": [
    "코인이름만출력('btc-krw')"
   ]
  },
  {
   "cell_type": "code",
   "execution_count": 37,
   "metadata": {},
   "outputs": [
    {
     "name": "stdout",
     "output_type": "stream",
     "text": [
      "ETH\n"
     ]
    }
   ],
   "source": [
    "코인이름만출력('eth-btc')"
   ]
  },
  {
   "cell_type": "code",
   "execution_count": 38,
   "metadata": {},
   "outputs": [],
   "source": [
    "def mysum(a,b) :\n",
    "    result = a+b\n",
    "    print(result)"
   ]
  },
  {
   "cell_type": "code",
   "execution_count": 39,
   "metadata": {},
   "outputs": [
    {
     "name": "stdout",
     "output_type": "stream",
     "text": [
      "7\n"
     ]
    }
   ],
   "source": [
    "mysum(3,4)"
   ]
  },
  {
   "cell_type": "code",
   "execution_count": 40,
   "metadata": {},
   "outputs": [],
   "source": [
    "def mysum(a,b) :\n",
    "    result = a+b\n",
    "    return result"
   ]
  },
  {
   "cell_type": "code",
   "execution_count": 41,
   "metadata": {},
   "outputs": [
    {
     "data": {
      "text/plain": [
       "7"
      ]
     },
     "execution_count": 41,
     "metadata": {},
     "output_type": "execute_result"
    }
   ],
   "source": [
    "mysum(3,4)"
   ]
  },
  {
   "cell_type": "code",
   "execution_count": 42,
   "metadata": {},
   "outputs": [],
   "source": [
    "ret = mysum(3,4)"
   ]
  },
  {
   "cell_type": "code",
   "execution_count": 43,
   "metadata": {},
   "outputs": [
    {
     "name": "stdout",
     "output_type": "stream",
     "text": [
      "7\n"
     ]
    }
   ],
   "source": [
    "ret = mysum(3,4)\n",
    "print(ret)"
   ]
  },
  {
   "cell_type": "code",
   "execution_count": 44,
   "metadata": {},
   "outputs": [],
   "source": [
    "# return을 하지 않으면 py은 None값을 리턴한다"
   ]
  },
  {
   "cell_type": "code",
   "execution_count": 45,
   "metadata": {},
   "outputs": [],
   "source": [
    "def mysum(a,b) : \n",
    "    result = a+b\n",
    "    return result"
   ]
  },
  {
   "cell_type": "code",
   "execution_count": 46,
   "metadata": {},
   "outputs": [],
   "source": [
    "def myaverage(a,b) : \n",
    "    평균 = (a+b) / 2\n",
    "    return 평균"
   ]
  },
  {
   "cell_type": "code",
   "execution_count": 47,
   "metadata": {},
   "outputs": [
    {
     "name": "stdout",
     "output_type": "stream",
     "text": [
      "15.0\n"
     ]
    }
   ],
   "source": [
    "result = myaverage(10,20)\n",
    "print(result)"
   ]
  },
  {
   "cell_type": "code",
   "execution_count": 48,
   "metadata": {},
   "outputs": [],
   "source": [
    "def mymin(a,b) :\n",
    "    if a<b : \n",
    "        return a\n",
    "    else :\n",
    "        return b"
   ]
  },
  {
   "cell_type": "code",
   "execution_count": 49,
   "metadata": {},
   "outputs": [
    {
     "name": "stdout",
     "output_type": "stream",
     "text": [
      "3\n"
     ]
    }
   ],
   "source": [
    "ret = mymin(3,4)\n",
    "print(ret)"
   ]
  },
  {
   "cell_type": "code",
   "execution_count": 51,
   "metadata": {},
   "outputs": [],
   "source": [
    "def mymax(a,b) :\n",
    "    if a>b : \n",
    "        return a\n",
    "    else :\n",
    "        return b"
   ]
  },
  {
   "cell_type": "code",
   "execution_count": 52,
   "metadata": {},
   "outputs": [
    {
     "name": "stdout",
     "output_type": "stream",
     "text": [
      "7\n"
     ]
    }
   ],
   "source": [
    "ret = mymax(4,7)\n",
    "print(ret)"
   ]
  },
  {
   "cell_type": "code",
   "execution_count": 53,
   "metadata": {},
   "outputs": [],
   "source": [
    "def 가상화폐(코인이름) :\n",
    "    이름 = 코인이름.split('-')\n",
    "    return 이름"
   ]
  },
  {
   "cell_type": "code",
   "execution_count": 54,
   "metadata": {},
   "outputs": [
    {
     "data": {
      "text/plain": [
       "['BTC', 'KRW']"
      ]
     },
     "execution_count": 54,
     "metadata": {},
     "output_type": "execute_result"
    }
   ],
   "source": [
    "가상화폐('BTC-KRW')"
   ]
  },
  {
   "cell_type": "code",
   "execution_count": 55,
   "metadata": {},
   "outputs": [],
   "source": [
    "def 가상화폐(코인이름) :\n",
    "    이름 = 코인이름.split('-')[0]\n",
    "    return 이름"
   ]
  },
  {
   "cell_type": "code",
   "execution_count": 56,
   "metadata": {},
   "outputs": [
    {
     "data": {
      "text/plain": [
       "'BTC'"
      ]
     },
     "execution_count": 56,
     "metadata": {},
     "output_type": "execute_result"
    }
   ],
   "source": [
    "가상화폐('BTC-KRW')"
   ]
  },
  {
   "cell_type": "code",
   "execution_count": 57,
   "metadata": {},
   "outputs": [
    {
     "name": "stdout",
     "output_type": "stream",
     "text": [
      "BTC\n"
     ]
    }
   ],
   "source": [
    "결과 = 가상화폐('BTC-KRW')\n",
    "print(결과)"
   ]
  },
  {
   "cell_type": "code",
   "execution_count": 58,
   "metadata": {},
   "outputs": [],
   "source": [
    "def myaverage(data) :\n",
    "    평균 = sum(data)/len(data)\n",
    "    return 평균"
   ]
  },
  {
   "cell_type": "code",
   "execution_count": 60,
   "metadata": {},
   "outputs": [
    {
     "ename": "TypeError",
     "evalue": "sum() missing 2 required positional arguments: 'A2' and 'A3'",
     "output_type": "error",
     "traceback": [
      "\u001b[0;31m---------------------------------------------------------------------------\u001b[0m",
      "\u001b[0;31mTypeError\u001b[0m                                 Traceback (most recent call last)",
      "Cell \u001b[0;32mIn[60], line 1\u001b[0m\n\u001b[0;32m----> 1\u001b[0m 결과1 \u001b[39m=\u001b[39m myaverage([\u001b[39m1\u001b[39;49m,\u001b[39m2\u001b[39;49m,\u001b[39m3\u001b[39;49m,\u001b[39m4\u001b[39;49m,\u001b[39m5\u001b[39;49m])\n\u001b[1;32m      2\u001b[0m \u001b[39mprint\u001b[39m(결과1)\n",
      "Cell \u001b[0;32mIn[58], line 2\u001b[0m, in \u001b[0;36mmyaverage\u001b[0;34m(data)\u001b[0m\n\u001b[1;32m      1\u001b[0m \u001b[39mdef\u001b[39;00m \u001b[39mmyaverage\u001b[39m(data) :\n\u001b[0;32m----> 2\u001b[0m     평균 \u001b[39m=\u001b[39m \u001b[39msum\u001b[39;49m(data)\u001b[39m/\u001b[39m\u001b[39mlen\u001b[39m(data)\n\u001b[1;32m      3\u001b[0m     \u001b[39mreturn\u001b[39;00m 평균\n",
      "\u001b[0;31mTypeError\u001b[0m: sum() missing 2 required positional arguments: 'A2' and 'A3'"
     ]
    }
   ],
   "source": [
    "결과1 = myaverage([1,2,3,4,5])\n",
    "print(결과1)"
   ]
  },
  {
   "cell_type": "code",
   "execution_count": 61,
   "metadata": {},
   "outputs": [],
   "source": [
    "def myaverage(data) :\n",
    "    평균 = sum(data) / len(data)\n",
    "    return 평균"
   ]
  },
  {
   "cell_type": "code",
   "execution_count": 62,
   "metadata": {},
   "outputs": [
    {
     "ename": "TypeError",
     "evalue": "sum() missing 2 required positional arguments: 'A2' and 'A3'",
     "output_type": "error",
     "traceback": [
      "\u001b[0;31m---------------------------------------------------------------------------\u001b[0m",
      "\u001b[0;31mTypeError\u001b[0m                                 Traceback (most recent call last)",
      "Cell \u001b[0;32mIn[62], line 1\u001b[0m\n\u001b[0;32m----> 1\u001b[0m 결과1 \u001b[39m=\u001b[39m myaverage([\u001b[39m1\u001b[39;49m,\u001b[39m2\u001b[39;49m,\u001b[39m3\u001b[39;49m,\u001b[39m4\u001b[39;49m,\u001b[39m5\u001b[39;49m])\n\u001b[1;32m      2\u001b[0m \u001b[39mprint\u001b[39m(결과1)\n",
      "Cell \u001b[0;32mIn[61], line 2\u001b[0m, in \u001b[0;36mmyaverage\u001b[0;34m(data)\u001b[0m\n\u001b[1;32m      1\u001b[0m \u001b[39mdef\u001b[39;00m \u001b[39mmyaverage\u001b[39m(data) :\n\u001b[0;32m----> 2\u001b[0m     평균 \u001b[39m=\u001b[39m \u001b[39msum\u001b[39;49m(data) \u001b[39m/\u001b[39m \u001b[39mlen\u001b[39m(data)\n\u001b[1;32m      3\u001b[0m     \u001b[39mreturn\u001b[39;00m 평균\n",
      "\u001b[0;31mTypeError\u001b[0m: sum() missing 2 required positional arguments: 'A2' and 'A3'"
     ]
    }
   ],
   "source": [
    "결과1 = myaverage([1,2,3,4,5])\n",
    "print(결과1)"
   ]
  },
  {
   "cell_type": "code",
   "execution_count": 63,
   "metadata": {},
   "outputs": [
    {
     "ename": "TypeError",
     "evalue": "sum() missing 2 required positional arguments: 'A2' and 'A3'",
     "output_type": "error",
     "traceback": [
      "\u001b[0;31m---------------------------------------------------------------------------\u001b[0m",
      "\u001b[0;31mTypeError\u001b[0m                                 Traceback (most recent call last)",
      "Cell \u001b[0;32mIn[63], line 1\u001b[0m\n\u001b[0;32m----> 1\u001b[0m 결과1 \u001b[39m=\u001b[39m myaverage([\u001b[39m1\u001b[39;49m,\u001b[39m2\u001b[39;49m,\u001b[39m3\u001b[39;49m])\n\u001b[1;32m      2\u001b[0m \u001b[39mprint\u001b[39m(결과1)\n",
      "Cell \u001b[0;32mIn[61], line 2\u001b[0m, in \u001b[0;36mmyaverage\u001b[0;34m(data)\u001b[0m\n\u001b[1;32m      1\u001b[0m \u001b[39mdef\u001b[39;00m \u001b[39mmyaverage\u001b[39m(data) :\n\u001b[0;32m----> 2\u001b[0m     평균 \u001b[39m=\u001b[39m \u001b[39msum\u001b[39;49m(data) \u001b[39m/\u001b[39m \u001b[39mlen\u001b[39m(data)\n\u001b[1;32m      3\u001b[0m     \u001b[39mreturn\u001b[39;00m 평균\n",
      "\u001b[0;31mTypeError\u001b[0m: sum() missing 2 required positional arguments: 'A2' and 'A3'"
     ]
    }
   ],
   "source": [
    "결과1 = myaverage([1,2,3])\n",
    "print(결과1)"
   ]
  },
  {
   "cell_type": "code",
   "execution_count": 64,
   "metadata": {},
   "outputs": [],
   "source": [
    "def myaverage(data) :\n",
    "    평균 = sum(data) % len(data)\n",
    "    return 평균"
   ]
  },
  {
   "cell_type": "code",
   "execution_count": 65,
   "metadata": {},
   "outputs": [
    {
     "ename": "TypeError",
     "evalue": "sum() missing 2 required positional arguments: 'A2' and 'A3'",
     "output_type": "error",
     "traceback": [
      "\u001b[0;31m---------------------------------------------------------------------------\u001b[0m",
      "\u001b[0;31mTypeError\u001b[0m                                 Traceback (most recent call last)",
      "Cell \u001b[0;32mIn[65], line 1\u001b[0m\n\u001b[0;32m----> 1\u001b[0m 결과1 \u001b[39m=\u001b[39m myaverage([\u001b[39m1\u001b[39;49m,\u001b[39m2\u001b[39;49m,\u001b[39m3\u001b[39;49m])\n\u001b[1;32m      2\u001b[0m \u001b[39mprint\u001b[39m(결과1)\n",
      "Cell \u001b[0;32mIn[64], line 2\u001b[0m, in \u001b[0;36mmyaverage\u001b[0;34m(data)\u001b[0m\n\u001b[1;32m      1\u001b[0m \u001b[39mdef\u001b[39;00m \u001b[39mmyaverage\u001b[39m(data) :\n\u001b[0;32m----> 2\u001b[0m     평균 \u001b[39m=\u001b[39m \u001b[39msum\u001b[39;49m(data) \u001b[39m%\u001b[39m \u001b[39mlen\u001b[39m(data)\n\u001b[1;32m      3\u001b[0m     \u001b[39mreturn\u001b[39;00m 평균\n",
      "\u001b[0;31mTypeError\u001b[0m: sum() missing 2 required positional arguments: 'A2' and 'A3'"
     ]
    }
   ],
   "source": [
    "결과1 = myaverage([1,2,3])\n",
    "print(결과1)"
   ]
  },
  {
   "cell_type": "code",
   "execution_count": 66,
   "metadata": {},
   "outputs": [],
   "source": [
    "def myaverage(data):\n",
    "    평균 = sum(data) / len(data)\n",
    "    return 평균"
   ]
  },
  {
   "cell_type": "code",
   "execution_count": 67,
   "metadata": {},
   "outputs": [
    {
     "ename": "TypeError",
     "evalue": "sum() missing 2 required positional arguments: 'A2' and 'A3'",
     "output_type": "error",
     "traceback": [
      "\u001b[0;31m---------------------------------------------------------------------------\u001b[0m",
      "\u001b[0;31mTypeError\u001b[0m                                 Traceback (most recent call last)",
      "Cell \u001b[0;32mIn[67], line 1\u001b[0m\n\u001b[0;32m----> 1\u001b[0m 결과1 \u001b[39m=\u001b[39m myaverage([\u001b[39m1\u001b[39;49m,\u001b[39m2\u001b[39;49m,\u001b[39m3\u001b[39;49m])\n\u001b[1;32m      2\u001b[0m \u001b[39mprint\u001b[39m(결과1)\n",
      "Cell \u001b[0;32mIn[66], line 2\u001b[0m, in \u001b[0;36mmyaverage\u001b[0;34m(data)\u001b[0m\n\u001b[1;32m      1\u001b[0m \u001b[39mdef\u001b[39;00m \u001b[39mmyaverage\u001b[39m(data):\n\u001b[0;32m----> 2\u001b[0m     평균 \u001b[39m=\u001b[39m \u001b[39msum\u001b[39;49m(data) \u001b[39m/\u001b[39m \u001b[39mlen\u001b[39m(data)\n\u001b[1;32m      3\u001b[0m     \u001b[39mreturn\u001b[39;00m 평균\n",
      "\u001b[0;31mTypeError\u001b[0m: sum() missing 2 required positional arguments: 'A2' and 'A3'"
     ]
    }
   ],
   "source": [
    "결과1 = myaverage([1,2,3])\n",
    "print(결과1)"
   ]
  },
  {
   "cell_type": "code",
   "execution_count": 68,
   "metadata": {},
   "outputs": [
    {
     "ename": "TypeError",
     "evalue": "sum() missing 2 required positional arguments: 'A2' and 'A3'",
     "output_type": "error",
     "traceback": [
      "\u001b[0;31m---------------------------------------------------------------------------\u001b[0m",
      "\u001b[0;31mTypeError\u001b[0m                                 Traceback (most recent call last)",
      "Cell \u001b[0;32mIn[68], line 1\u001b[0m\n\u001b[0;32m----> 1\u001b[0m 결과2 \u001b[39m=\u001b[39m myaverage(\u001b[39mrange\u001b[39;49m(\u001b[39m1\u001b[39;49m,\u001b[39m11\u001b[39;49m))\n\u001b[1;32m      2\u001b[0m \u001b[39mprint\u001b[39m(결과2)\n",
      "Cell \u001b[0;32mIn[66], line 2\u001b[0m, in \u001b[0;36mmyaverage\u001b[0;34m(data)\u001b[0m\n\u001b[1;32m      1\u001b[0m \u001b[39mdef\u001b[39;00m \u001b[39mmyaverage\u001b[39m(data):\n\u001b[0;32m----> 2\u001b[0m     평균 \u001b[39m=\u001b[39m \u001b[39msum\u001b[39;49m(data) \u001b[39m/\u001b[39m \u001b[39mlen\u001b[39m(data)\n\u001b[1;32m      3\u001b[0m     \u001b[39mreturn\u001b[39;00m 평균\n",
      "\u001b[0;31mTypeError\u001b[0m: sum() missing 2 required positional arguments: 'A2' and 'A3'"
     ]
    }
   ],
   "source": [
    "결과2 = myaverage(range(1,11))\n",
    "print(결과2)"
   ]
  },
  {
   "cell_type": "code",
   "execution_count": 69,
   "metadata": {},
   "outputs": [],
   "source": [
    "def myaverage(data):\n",
    "    평균 = sum(data) - len(data)\n",
    "    return 평균"
   ]
  },
  {
   "cell_type": "code",
   "execution_count": 70,
   "metadata": {},
   "outputs": [
    {
     "ename": "TypeError",
     "evalue": "sum() missing 2 required positional arguments: 'A2' and 'A3'",
     "output_type": "error",
     "traceback": [
      "\u001b[0;31m---------------------------------------------------------------------------\u001b[0m",
      "\u001b[0;31mTypeError\u001b[0m                                 Traceback (most recent call last)",
      "Cell \u001b[0;32mIn[70], line 1\u001b[0m\n\u001b[0;32m----> 1\u001b[0m 결과2 \u001b[39m=\u001b[39m myaverage(\u001b[39mrange\u001b[39;49m(\u001b[39m1\u001b[39;49m,\u001b[39m11\u001b[39;49m))\n\u001b[1;32m      2\u001b[0m \u001b[39mprint\u001b[39m(결과2)\n",
      "Cell \u001b[0;32mIn[69], line 2\u001b[0m, in \u001b[0;36mmyaverage\u001b[0;34m(data)\u001b[0m\n\u001b[1;32m      1\u001b[0m \u001b[39mdef\u001b[39;00m \u001b[39mmyaverage\u001b[39m(data):\n\u001b[0;32m----> 2\u001b[0m     평균 \u001b[39m=\u001b[39m \u001b[39msum\u001b[39;49m(data) \u001b[39m-\u001b[39m \u001b[39mlen\u001b[39m(data)\n\u001b[1;32m      3\u001b[0m     \u001b[39mreturn\u001b[39;00m 평균\n",
      "\u001b[0;31mTypeError\u001b[0m: sum() missing 2 required positional arguments: 'A2' and 'A3'"
     ]
    }
   ],
   "source": [
    "결과2 = myaverage(range(1,11))\n",
    "print(결과2)"
   ]
  },
  {
   "cell_type": "code",
   "execution_count": 71,
   "metadata": {},
   "outputs": [],
   "source": [
    "def myaverage(data):\n",
    "    평균 = sum(data) / len(data)\n",
    "    return 평균"
   ]
  },
  {
   "cell_type": "code",
   "execution_count": 72,
   "metadata": {},
   "outputs": [
    {
     "ename": "TypeError",
     "evalue": "sum() missing 2 required positional arguments: 'A2' and 'A3'",
     "output_type": "error",
     "traceback": [
      "\u001b[0;31m---------------------------------------------------------------------------\u001b[0m",
      "\u001b[0;31mTypeError\u001b[0m                                 Traceback (most recent call last)",
      "Cell \u001b[0;32mIn[72], line 1\u001b[0m\n\u001b[0;32m----> 1\u001b[0m 결과2 \u001b[39m=\u001b[39m myaverage(\u001b[39mrange\u001b[39;49m(\u001b[39m1\u001b[39;49m,\u001b[39m11\u001b[39;49m))\n\u001b[1;32m      2\u001b[0m \u001b[39mprint\u001b[39m(결과2)\n",
      "Cell \u001b[0;32mIn[71], line 2\u001b[0m, in \u001b[0;36mmyaverage\u001b[0;34m(data)\u001b[0m\n\u001b[1;32m      1\u001b[0m \u001b[39mdef\u001b[39;00m \u001b[39mmyaverage\u001b[39m(data):\n\u001b[0;32m----> 2\u001b[0m     평균 \u001b[39m=\u001b[39m \u001b[39msum\u001b[39;49m(data) \u001b[39m/\u001b[39m \u001b[39mlen\u001b[39m(data)\n\u001b[1;32m      3\u001b[0m     \u001b[39mreturn\u001b[39;00m 평균\n",
      "\u001b[0;31mTypeError\u001b[0m: sum() missing 2 required positional arguments: 'A2' and 'A3'"
     ]
    }
   ],
   "source": [
    "결과2 = myaverage(range(1,11))\n",
    "print(결과2)"
   ]
  },
  {
   "cell_type": "code",
   "execution_count": 73,
   "metadata": {},
   "outputs": [
    {
     "ename": "TypeError",
     "evalue": "myaverage() takes 1 positional argument but 2 were given",
     "output_type": "error",
     "traceback": [
      "\u001b[0;31m---------------------------------------------------------------------------\u001b[0m",
      "\u001b[0;31mTypeError\u001b[0m                                 Traceback (most recent call last)",
      "Cell \u001b[0;32mIn[73], line 1\u001b[0m\n\u001b[0;32m----> 1\u001b[0m 결과1 \u001b[39m=\u001b[39m myaverage(\u001b[39m2\u001b[39;49m,\u001b[39m4\u001b[39;49m)\n\u001b[1;32m      2\u001b[0m \u001b[39mprint\u001b[39m(결과1)\n",
      "\u001b[0;31mTypeError\u001b[0m: myaverage() takes 1 positional argument but 2 were given"
     ]
    }
   ],
   "source": [
    "결과1 = myaverage(2,4)\n",
    "print(결과1)"
   ]
  },
  {
   "cell_type": "code",
   "execution_count": 74,
   "metadata": {},
   "outputs": [
    {
     "ename": "TypeError",
     "evalue": "myaverage() takes 1 positional argument but 2 were given",
     "output_type": "error",
     "traceback": [
      "\u001b[0;31m---------------------------------------------------------------------------\u001b[0m",
      "\u001b[0;31mTypeError\u001b[0m                                 Traceback (most recent call last)",
      "Cell \u001b[0;32mIn[74], line 1\u001b[0m\n\u001b[0;32m----> 1\u001b[0m 결과 \u001b[39m=\u001b[39m myaverage(\u001b[39m2\u001b[39;49m,\u001b[39m4\u001b[39;49m)\n\u001b[1;32m      2\u001b[0m \u001b[39mprint\u001b[39m(결과)\n",
      "\u001b[0;31mTypeError\u001b[0m: myaverage() takes 1 positional argument but 2 were given"
     ]
    }
   ],
   "source": [
    "결과 = myaverage(2,4)\n",
    "print(결과)"
   ]
  },
  {
   "cell_type": "code",
   "execution_count": 75,
   "metadata": {},
   "outputs": [
    {
     "ename": "TypeError",
     "evalue": "sum() missing 2 required positional arguments: 'A2' and 'A3'",
     "output_type": "error",
     "traceback": [
      "\u001b[0;31m---------------------------------------------------------------------------\u001b[0m",
      "\u001b[0;31mTypeError\u001b[0m                                 Traceback (most recent call last)",
      "Cell \u001b[0;32mIn[75], line 1\u001b[0m\n\u001b[0;32m----> 1\u001b[0m 결과 \u001b[39m=\u001b[39m myaverage([\u001b[39m2\u001b[39;49m,\u001b[39m4\u001b[39;49m])\n\u001b[1;32m      2\u001b[0m \u001b[39mprint\u001b[39m(결과)\n",
      "Cell \u001b[0;32mIn[71], line 2\u001b[0m, in \u001b[0;36mmyaverage\u001b[0;34m(data)\u001b[0m\n\u001b[1;32m      1\u001b[0m \u001b[39mdef\u001b[39;00m \u001b[39mmyaverage\u001b[39m(data):\n\u001b[0;32m----> 2\u001b[0m     평균 \u001b[39m=\u001b[39m \u001b[39msum\u001b[39;49m(data) \u001b[39m/\u001b[39m \u001b[39mlen\u001b[39m(data)\n\u001b[1;32m      3\u001b[0m     \u001b[39mreturn\u001b[39;00m 평균\n",
      "\u001b[0;31mTypeError\u001b[0m: sum() missing 2 required positional arguments: 'A2' and 'A3'"
     ]
    }
   ],
   "source": [
    "결과 = myaverage([2,4])\n",
    "print(결과)"
   ]
  },
  {
   "cell_type": "code",
   "execution_count": 76,
   "metadata": {},
   "outputs": [],
   "source": [
    "# 함수 정의 \n",
    "\n",
    "# def 함수이름(인자) :\n",
    "#   기능코드\n",
    "#   return 결과"
   ]
  },
  {
   "cell_type": "code",
   "execution_count": 77,
   "metadata": {},
   "outputs": [],
   "source": [
    "# 호출 : 함수이름(인자값)"
   ]
  }
 ],
 "metadata": {
  "kernelspec": {
   "display_name": "Python 3",
   "language": "python",
   "name": "python3"
  },
  "language_info": {
   "codemirror_mode": {
    "name": "ipython",
    "version": 3
   },
   "file_extension": ".py",
   "mimetype": "text/x-python",
   "name": "python",
   "nbconvert_exporter": "python",
   "pygments_lexer": "ipython3",
   "version": "3.12.0"
  }
 },
 "nbformat": 4,
 "nbformat_minor": 2
}
