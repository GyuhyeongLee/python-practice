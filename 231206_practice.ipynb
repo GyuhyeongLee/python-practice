{
 "cells": [
  {
   "cell_type": "markdown",
   "metadata": {
    "isInteractiveWindowMessageCell": true
   },
   "source": [
    "Python 3.12.0에 연결됨"
   ]
  },
  {
   "cell_type": "code",
   "execution_count": 1,
   "metadata": {},
   "outputs": [
    {
     "name": "stdout",
     "output_type": "stream",
     "text": [
      "0\n",
      "1\n",
      "2\n",
      "3\n",
      "4\n",
      "5\n",
      "반복문 끝\n"
     ]
    }
   ],
   "source": [
    "for i in range(10) :\n",
    "    if i>5 :\n",
    "        break\n",
    "    print(i)\n",
    "print('반복문 끝')"
   ]
  },
  {
   "cell_type": "code",
   "execution_count": 2,
   "metadata": {},
   "outputs": [],
   "source": [
    "# break는 반복문을 중단할 때 사용 조건은 if로 판단"
   ]
  },
  {
   "cell_type": "code",
   "execution_count": 3,
   "metadata": {},
   "outputs": [
    {
     "name": "stdout",
     "output_type": "stream",
     "text": [
      "1\n",
      "3\n",
      "5\n",
      "7\n",
      "9\n"
     ]
    }
   ],
   "source": [
    "for i in range(10) :\n",
    "    if i % 2 == 0 :\n",
    "        continue\n",
    "    \n",
    "    print(i)"
   ]
  },
  {
   "cell_type": "code",
   "execution_count": 4,
   "metadata": {},
   "outputs": [],
   "source": [
    "# 반복문에서 continue를 만나면 들여쓰기된 코드는 수행되지 않고 반복문으로 이동"
   ]
  },
  {
   "cell_type": "code",
   "execution_count": 5,
   "metadata": {},
   "outputs": [
    {
     "name": "stdout",
     "output_type": "stream",
     "text": [
      "0\n",
      "1\n",
      "2\n"
     ]
    }
   ],
   "source": [
    "for i in range(3) :\n",
    "    print(i)"
   ]
  },
  {
   "cell_type": "code",
   "execution_count": 6,
   "metadata": {},
   "outputs": [],
   "source": [
    "for i in range(3) :\n",
    "    pass"
   ]
  },
  {
   "cell_type": "code",
   "execution_count": 7,
   "metadata": {},
   "outputs": [],
   "source": [
    "과자  = {\n",
    "    '꼬깔콘' : 1680,\n",
    "    '새우깡' : 3830,\n",
    "    '포카칩' : 1180,\n",
    "    '프링글스' : 2980,\n",
    "    '오징어땅콩' : 1680\n",
    "    }"
   ]
  },
  {
   "cell_type": "code",
   "execution_count": 8,
   "metadata": {},
   "outputs": [
    {
     "name": "stdout",
     "output_type": "stream",
     "text": [
      "꼬깔콘 1680\n",
      "새우깡 3830\n",
      "포카칩 1180\n",
      "프링글스 2980\n",
      "오징어땅콩 1680\n"
     ]
    }
   ],
   "source": [
    "구매과자 = []\n",
    "\n",
    "for 과자이름, 과자가격 in 과자.items():\n",
    "    print(과자이름,과자가격)"
   ]
  },
  {
   "cell_type": "code",
   "execution_count": 9,
   "metadata": {},
   "outputs": [],
   "source": [
    "구매과자 = []\n",
    "총가격 = 0\n",
    "\n",
    "for 과자이름, 과자가격 in 과자.items():\n",
    "    if 총가격 + 과자가격 > 7000 :\n",
    "        break\n",
    "    구매과자.append(과자이름)\n"
   ]
  },
  {
   "cell_type": "code",
   "execution_count": 10,
   "metadata": {},
   "outputs": [
    {
     "name": "stdout",
     "output_type": "stream",
     "text": [
      "[] 0\n"
     ]
    }
   ],
   "source": [
    "구매과자 = []\n",
    "총가격 = 0\n",
    "\n",
    "for 과자이름, 과자가격 in 과자.items():\n",
    "    if 총가격 + 과자가격 > 7000 :\n",
    "        break\n",
    "print(구매과자, 총가격)"
   ]
  },
  {
   "cell_type": "code",
   "execution_count": 11,
   "metadata": {},
   "outputs": [
    {
     "name": "stdout",
     "output_type": "stream",
     "text": [
      "['꼬깔콘', '새우깡', '포카칩', '프링글스', '오징어땅콩'] 0\n"
     ]
    }
   ],
   "source": [
    "구매과자 = []\n",
    "총가격 = 0\n",
    "\n",
    "for 과자이름, 과자가격 in 과자.items():\n",
    "    if 총가격 + 과자가격 > 7000 :\n",
    "        break\n",
    "    구매과자.append(과자이름)\n",
    "print(구매과자, 총가격)"
   ]
  },
  {
   "cell_type": "code",
   "execution_count": 12,
   "metadata": {},
   "outputs": [
    {
     "name": "stdout",
     "output_type": "stream",
     "text": [
      "['꼬깔콘', '새우깡', '포카칩'] 6690\n"
     ]
    }
   ],
   "source": [
    "구매과자 = []\n",
    "총가격 = 0\n",
    "\n",
    "for 과자이름, 과자가격 in 과자.items():\n",
    "    if 총가격 + 과자가격 > 7000 :\n",
    "        break\n",
    "    구매과자.append(과자이름)\n",
    "    총가격 = 총가격 + 과자가격\n",
    "print(구매과자, 총가격)"
   ]
  },
  {
   "cell_type": "code",
   "execution_count": 13,
   "metadata": {},
   "outputs": [],
   "source": [
    "번호리스트 = [\n",
    "    '01가 1234',\n",
    "    '02나 1012',\n",
    "    '80가 1011',\n",
    "    '91다 8876',\n",
    "    '61오 6531'\n",
    "]"
   ]
  },
  {
   "cell_type": "code",
   "execution_count": 14,
   "metadata": {},
   "outputs": [],
   "source": [
    "for i in 번호리스트 :\n",
    "    두자리 = i[:2]"
   ]
  },
  {
   "cell_type": "code",
   "execution_count": 15,
   "metadata": {},
   "outputs": [
    {
     "name": "stdout",
     "output_type": "stream",
     "text": [
      "61\n"
     ]
    }
   ],
   "source": [
    "for i in 번호리스트 :\n",
    "    두자리 = i[:2]\n",
    "print(두자리)"
   ]
  },
  {
   "cell_type": "code",
   "execution_count": 16,
   "metadata": {},
   "outputs": [
    {
     "name": "stdout",
     "output_type": "stream",
     "text": [
      "61\n"
     ]
    }
   ],
   "source": [
    "for i in 번호리스트 :\n",
    "    두자리 = i[0:2]\n",
    "print(두자리)"
   ]
  },
  {
   "cell_type": "code",
   "execution_count": 17,
   "metadata": {},
   "outputs": [
    {
     "name": "stdout",
     "output_type": "stream",
     "text": [
      "01\n",
      "02\n",
      "80\n",
      "91\n",
      "61\n"
     ]
    }
   ],
   "source": [
    "for i in 번호리스트 :\n",
    "    두자리 = i[0:2]\n",
    "    print(두자리)"
   ]
  },
  {
   "cell_type": "code",
   "execution_count": 18,
   "metadata": {},
   "outputs": [
    {
     "name": "stdout",
     "output_type": "stream",
     "text": [
      "01가 1234\n",
      "02나 1012\n",
      "61오 6531\n"
     ]
    }
   ],
   "source": [
    "for i in 번호리스트 :\n",
    "    두자리 = i[0:2]\n",
    "    if int(두자리) < 70 :\n",
    "        print(i)"
   ]
  },
  {
   "cell_type": "code",
   "execution_count": 19,
   "metadata": {},
   "outputs": [
    {
     "name": "stdout",
     "output_type": "stream",
     "text": [
      "01가 1234\n",
      "02나 1012\n",
      "61오 6531\n"
     ]
    }
   ],
   "source": [
    "for i in 번호리스트 :\n",
    "    두자리 = i[0:2]\n",
    "    if int(두자리) >= 70 :\n",
    "        continue\n",
    "    print(i)"
   ]
  },
  {
   "cell_type": "code",
   "execution_count": 20,
   "metadata": {},
   "outputs": [],
   "source": [
    "#파이썬 while문 = 무한루프로 돌리고 싶을 때"
   ]
  },
  {
   "cell_type": "code",
   "execution_count": 21,
   "metadata": {},
   "outputs": [
    {
     "name": "stdout",
     "output_type": "stream",
     "text": [
      "1\n",
      "2\n",
      "3\n",
      "4\n",
      "5\n"
     ]
    }
   ],
   "source": [
    "num = 1 \n",
    "\n",
    "while num <=5 :\n",
    "    print(num)\n",
    "    num = num+1"
   ]
  },
  {
   "cell_type": "code",
   "execution_count": 25,
   "metadata": {},
   "outputs": [
    {
     "name": "stdout",
     "output_type": "stream",
     "text": [
      "안녕하세요\n",
      "안녕히가세요\n"
     ]
    }
   ],
   "source": [
    "import time\n",
    "\n",
    "print('안녕하세요')\n",
    "time.sleep(5)\n",
    "print('안녕히가세요')"
   ]
  },
  {
   "cell_type": "code",
   "execution_count": 28,
   "metadata": {},
   "outputs": [
    {
     "name": "stdout",
     "output_type": "stream",
     "text": [
      "32487 <class 'str'>\n"
     ]
    }
   ],
   "source": [
    "user = input(\"숫자를 입력하세요 : \")\n",
    "print(user,type(user))"
   ]
  },
  {
   "cell_type": "code",
   "execution_count": 29,
   "metadata": {},
   "outputs": [
    {
     "name": "stdout",
     "output_type": "stream",
     "text": [
      "2 13000.0\n",
      "3 13000.0\n",
      "4 13000.0\n",
      "5 13000.0\n"
     ]
    }
   ],
   "source": [
    "원가 = 10000\n",
    "day = 1\n",
    "while day < 5 :\n",
    "    day = day + 1\n",
    "    print(day, 원가 * 1.3)"
   ]
  },
  {
   "cell_type": "code",
   "execution_count": 30,
   "metadata": {},
   "outputs": [
    {
     "name": "stdout",
     "output_type": "stream",
     "text": [
      "13000.0 1\n",
      "16900.0 2\n",
      "21970.0 3\n",
      "28561.0 4\n",
      "37129.3 5\n"
     ]
    }
   ],
   "source": [
    "원가 = 10000\n",
    "day = 0\n",
    "while day < 5 :\n",
    "    원가 = 원가 * 1.3\n",
    "    day = day + 1\n",
    "    print(원가, day)"
   ]
  },
  {
   "cell_type": "code",
   "execution_count": 31,
   "metadata": {},
   "outputs": [
    {
     "name": "stdout",
     "output_type": "stream",
     "text": [
      "1 13000.0\n",
      "2 16900.0\n",
      "3 21970.0\n",
      "4 28561.0\n",
      "5 37129.3\n"
     ]
    }
   ],
   "source": [
    "원가 = 10000\n",
    "day = 0\n",
    "while day < 5 :\n",
    "    원가 = 원가 * 1.3\n",
    "    day = day + 1\n",
    "    print(day, 원가)"
   ]
  },
  {
   "cell_type": "code",
   "execution_count": 32,
   "metadata": {},
   "outputs": [],
   "source": [
    "import random\n",
    "\n",
    "number = random.randint(1,45)"
   ]
  },
  {
   "cell_type": "code",
   "execution_count": 33,
   "metadata": {},
   "outputs": [
    {
     "name": "stdout",
     "output_type": "stream",
     "text": [
      "35\n"
     ]
    }
   ],
   "source": [
    "import random\n",
    "\n",
    "number = random.randint(1,45)\n",
    "\n",
    "print(number)"
   ]
  },
  {
   "cell_type": "code",
   "execution_count": 34,
   "metadata": {},
   "outputs": [],
   "source": [
    "import random\n",
    "lotto = []\n",
    "\n",
    "for i in range(6) :\n",
    "    number = random.randint(1,45)\n",
    "    lotto.append(number)"
   ]
  },
  {
   "cell_type": "code",
   "execution_count": 37,
   "metadata": {},
   "outputs": [],
   "source": [
    "import random\n",
    "\n",
    "lotto = []\n",
    "\n",
    "while len(lotto) < 6 :\n",
    "    number = random.randint(1,45)\n",
    "    if number not in lotto :\n",
    "        lotto.append(number)"
   ]
  },
  {
   "cell_type": "code",
   "execution_count": 38,
   "metadata": {},
   "outputs": [
    {
     "data": {
      "text/plain": [
       "[25, 34, 18, 33, 24, 32]"
      ]
     },
     "execution_count": 38,
     "metadata": {},
     "output_type": "execute_result"
    }
   ],
   "source": [
    "lotto"
   ]
  },
  {
   "cell_type": "code",
   "execution_count": 39,
   "metadata": {},
   "outputs": [
    {
     "name": "stdout",
     "output_type": "stream",
     "text": [
      "Up\n",
      "Up\n",
      "Up\n",
      "Up\n",
      "Up\n",
      "Up\n"
     ]
    },
    {
     "ename": "KeyboardInterrupt",
     "evalue": "Interrupted by user",
     "output_type": "error",
     "traceback": [
      "\u001b[0;31m---------------------------------------------------------------------------\u001b[0m",
      "\u001b[0;31mKeyboardInterrupt\u001b[0m                         Traceback (most recent call last)",
      "Cell \u001b[0;32mIn[39], line 6\u001b[0m\n\u001b[1;32m      3\u001b[0m number \u001b[39m=\u001b[39m random\u001b[39m.\u001b[39mrandint(\u001b[39m1\u001b[39m,\u001b[39m100\u001b[39m)\n\u001b[1;32m      5\u001b[0m \u001b[39mwhile\u001b[39;00m \u001b[39mTrue\u001b[39;00m :\n\u001b[0;32m----> 6\u001b[0m     num \u001b[39m=\u001b[39m \u001b[39minput\u001b[39;49m(\u001b[39m'\u001b[39;49m\u001b[39m숫자 입력 : \u001b[39;49m\u001b[39m'\u001b[39;49m)\n\u001b[1;32m      7\u001b[0m     num \u001b[39m=\u001b[39m \u001b[39mint\u001b[39m(num)\n\u001b[1;32m      9\u001b[0m     \u001b[39mif\u001b[39;00m num \u001b[39m<\u001b[39m number :\n",
      "File \u001b[0;32m~/Library/Python/3.12/lib/python/site-packages/ipykernel/kernelbase.py:1202\u001b[0m, in \u001b[0;36mKernel.raw_input\u001b[0;34m(self, prompt)\u001b[0m\n\u001b[1;32m   <a href='file:///Users/lee/Library/Python/3.12/lib/python/site-packages/ipykernel/kernelbase.py?line=1199'>1200</a>\u001b[0m     msg \u001b[39m=\u001b[39m \u001b[39m\"\u001b[39m\u001b[39mraw_input was called, but this frontend does not support input requests.\u001b[39m\u001b[39m\"\u001b[39m\n\u001b[1;32m   <a href='file:///Users/lee/Library/Python/3.12/lib/python/site-packages/ipykernel/kernelbase.py?line=1200'>1201</a>\u001b[0m     \u001b[39mraise\u001b[39;00m StdinNotImplementedError(msg)\n\u001b[0;32m-> <a href='file:///Users/lee/Library/Python/3.12/lib/python/site-packages/ipykernel/kernelbase.py?line=1201'>1202</a>\u001b[0m \u001b[39mreturn\u001b[39;00m \u001b[39mself\u001b[39;49m\u001b[39m.\u001b[39;49m_input_request(\n\u001b[1;32m   <a href='file:///Users/lee/Library/Python/3.12/lib/python/site-packages/ipykernel/kernelbase.py?line=1202'>1203</a>\u001b[0m     \u001b[39mstr\u001b[39;49m(prompt),\n\u001b[1;32m   <a href='file:///Users/lee/Library/Python/3.12/lib/python/site-packages/ipykernel/kernelbase.py?line=1203'>1204</a>\u001b[0m     \u001b[39mself\u001b[39;49m\u001b[39m.\u001b[39;49m_parent_ident[\u001b[39m\"\u001b[39;49m\u001b[39mshell\u001b[39;49m\u001b[39m\"\u001b[39;49m],\n\u001b[1;32m   <a href='file:///Users/lee/Library/Python/3.12/lib/python/site-packages/ipykernel/kernelbase.py?line=1204'>1205</a>\u001b[0m     \u001b[39mself\u001b[39;49m\u001b[39m.\u001b[39;49mget_parent(\u001b[39m\"\u001b[39;49m\u001b[39mshell\u001b[39;49m\u001b[39m\"\u001b[39;49m),\n\u001b[1;32m   <a href='file:///Users/lee/Library/Python/3.12/lib/python/site-packages/ipykernel/kernelbase.py?line=1205'>1206</a>\u001b[0m     password\u001b[39m=\u001b[39;49m\u001b[39mFalse\u001b[39;49;00m,\n\u001b[1;32m   <a href='file:///Users/lee/Library/Python/3.12/lib/python/site-packages/ipykernel/kernelbase.py?line=1206'>1207</a>\u001b[0m )\n",
      "File \u001b[0;32m~/Library/Python/3.12/lib/python/site-packages/ipykernel/kernelbase.py:1245\u001b[0m, in \u001b[0;36mKernel._input_request\u001b[0;34m(self, prompt, ident, parent, password)\u001b[0m\n\u001b[1;32m   <a href='file:///Users/lee/Library/Python/3.12/lib/python/site-packages/ipykernel/kernelbase.py?line=1241'>1242</a>\u001b[0m \u001b[39mexcept\u001b[39;00m \u001b[39mKeyboardInterrupt\u001b[39;00m:\n\u001b[1;32m   <a href='file:///Users/lee/Library/Python/3.12/lib/python/site-packages/ipykernel/kernelbase.py?line=1242'>1243</a>\u001b[0m     \u001b[39m# re-raise KeyboardInterrupt, to truncate traceback\u001b[39;00m\n\u001b[1;32m   <a href='file:///Users/lee/Library/Python/3.12/lib/python/site-packages/ipykernel/kernelbase.py?line=1243'>1244</a>\u001b[0m     msg \u001b[39m=\u001b[39m \u001b[39m\"\u001b[39m\u001b[39mInterrupted by user\u001b[39m\u001b[39m\"\u001b[39m\n\u001b[0;32m-> <a href='file:///Users/lee/Library/Python/3.12/lib/python/site-packages/ipykernel/kernelbase.py?line=1244'>1245</a>\u001b[0m     \u001b[39mraise\u001b[39;00m \u001b[39mKeyboardInterrupt\u001b[39;00m(msg) \u001b[39mfrom\u001b[39;00m \u001b[39mNone\u001b[39;00m\n\u001b[1;32m   <a href='file:///Users/lee/Library/Python/3.12/lib/python/site-packages/ipykernel/kernelbase.py?line=1245'>1246</a>\u001b[0m \u001b[39mexcept\u001b[39;00m \u001b[39mException\u001b[39;00m:\n\u001b[1;32m   <a href='file:///Users/lee/Library/Python/3.12/lib/python/site-packages/ipykernel/kernelbase.py?line=1246'>1247</a>\u001b[0m     \u001b[39mself\u001b[39m\u001b[39m.\u001b[39mlog\u001b[39m.\u001b[39mwarning(\u001b[39m\"\u001b[39m\u001b[39mInvalid Message:\u001b[39m\u001b[39m\"\u001b[39m, exc_info\u001b[39m=\u001b[39m\u001b[39mTrue\u001b[39;00m)\n",
      "\u001b[0;31mKeyboardInterrupt\u001b[0m: Interrupted by user"
     ]
    }
   ],
   "source": [
    "import random\n",
    "\n",
    "number = random.randint(1,100)\n",
    "\n",
    "while True :\n",
    "    num = input('숫자 입력 : ')\n",
    "    num = int(num)\n",
    "    \n",
    "    if num < number :\n",
    "        print('Down')\n",
    "    elif num == number :\n",
    "        print('정답')\n",
    "        break\n",
    "    else :\n",
    "        print('Up')"
   ]
  },
  {
   "cell_type": "code",
   "execution_count": 40,
   "metadata": {},
   "outputs": [
    {
     "name": "stdout",
     "output_type": "stream",
     "text": [
      "Up\n",
      "Down\n"
     ]
    },
    {
     "ename": "KeyboardInterrupt",
     "evalue": "Interrupted by user",
     "output_type": "error",
     "traceback": [
      "\u001b[0;31m---------------------------------------------------------------------------\u001b[0m",
      "\u001b[0;31mKeyboardInterrupt\u001b[0m                         Traceback (most recent call last)",
      "Cell \u001b[0;32mIn[40], line 6\u001b[0m\n\u001b[1;32m      3\u001b[0m number \u001b[39m=\u001b[39m random\u001b[39m.\u001b[39mrandint(\u001b[39m1\u001b[39m,\u001b[39m100\u001b[39m)\n\u001b[1;32m      5\u001b[0m \u001b[39mwhile\u001b[39;00m \u001b[39mTrue\u001b[39;00m :\n\u001b[0;32m----> 6\u001b[0m     num \u001b[39m=\u001b[39m \u001b[39minput\u001b[39;49m(\u001b[39m'\u001b[39;49m\u001b[39m숫자 입력 : \u001b[39;49m\u001b[39m'\u001b[39;49m)\n\u001b[1;32m      7\u001b[0m     num \u001b[39m=\u001b[39m \u001b[39mint\u001b[39m(num)\n\u001b[1;32m      9\u001b[0m     \u001b[39mif\u001b[39;00m number \u001b[39m<\u001b[39m num :\n",
      "File \u001b[0;32m~/Library/Python/3.12/lib/python/site-packages/ipykernel/kernelbase.py:1202\u001b[0m, in \u001b[0;36mKernel.raw_input\u001b[0;34m(self, prompt)\u001b[0m\n\u001b[1;32m   <a href='file:///Users/lee/Library/Python/3.12/lib/python/site-packages/ipykernel/kernelbase.py?line=1199'>1200</a>\u001b[0m     msg \u001b[39m=\u001b[39m \u001b[39m\"\u001b[39m\u001b[39mraw_input was called, but this frontend does not support input requests.\u001b[39m\u001b[39m\"\u001b[39m\n\u001b[1;32m   <a href='file:///Users/lee/Library/Python/3.12/lib/python/site-packages/ipykernel/kernelbase.py?line=1200'>1201</a>\u001b[0m     \u001b[39mraise\u001b[39;00m StdinNotImplementedError(msg)\n\u001b[0;32m-> <a href='file:///Users/lee/Library/Python/3.12/lib/python/site-packages/ipykernel/kernelbase.py?line=1201'>1202</a>\u001b[0m \u001b[39mreturn\u001b[39;00m \u001b[39mself\u001b[39;49m\u001b[39m.\u001b[39;49m_input_request(\n\u001b[1;32m   <a href='file:///Users/lee/Library/Python/3.12/lib/python/site-packages/ipykernel/kernelbase.py?line=1202'>1203</a>\u001b[0m     \u001b[39mstr\u001b[39;49m(prompt),\n\u001b[1;32m   <a href='file:///Users/lee/Library/Python/3.12/lib/python/site-packages/ipykernel/kernelbase.py?line=1203'>1204</a>\u001b[0m     \u001b[39mself\u001b[39;49m\u001b[39m.\u001b[39;49m_parent_ident[\u001b[39m\"\u001b[39;49m\u001b[39mshell\u001b[39;49m\u001b[39m\"\u001b[39;49m],\n\u001b[1;32m   <a href='file:///Users/lee/Library/Python/3.12/lib/python/site-packages/ipykernel/kernelbase.py?line=1204'>1205</a>\u001b[0m     \u001b[39mself\u001b[39;49m\u001b[39m.\u001b[39;49mget_parent(\u001b[39m\"\u001b[39;49m\u001b[39mshell\u001b[39;49m\u001b[39m\"\u001b[39;49m),\n\u001b[1;32m   <a href='file:///Users/lee/Library/Python/3.12/lib/python/site-packages/ipykernel/kernelbase.py?line=1205'>1206</a>\u001b[0m     password\u001b[39m=\u001b[39;49m\u001b[39mFalse\u001b[39;49;00m,\n\u001b[1;32m   <a href='file:///Users/lee/Library/Python/3.12/lib/python/site-packages/ipykernel/kernelbase.py?line=1206'>1207</a>\u001b[0m )\n",
      "File \u001b[0;32m~/Library/Python/3.12/lib/python/site-packages/ipykernel/kernelbase.py:1245\u001b[0m, in \u001b[0;36mKernel._input_request\u001b[0;34m(self, prompt, ident, parent, password)\u001b[0m\n\u001b[1;32m   <a href='file:///Users/lee/Library/Python/3.12/lib/python/site-packages/ipykernel/kernelbase.py?line=1241'>1242</a>\u001b[0m \u001b[39mexcept\u001b[39;00m \u001b[39mKeyboardInterrupt\u001b[39;00m:\n\u001b[1;32m   <a href='file:///Users/lee/Library/Python/3.12/lib/python/site-packages/ipykernel/kernelbase.py?line=1242'>1243</a>\u001b[0m     \u001b[39m# re-raise KeyboardInterrupt, to truncate traceback\u001b[39;00m\n\u001b[1;32m   <a href='file:///Users/lee/Library/Python/3.12/lib/python/site-packages/ipykernel/kernelbase.py?line=1243'>1244</a>\u001b[0m     msg \u001b[39m=\u001b[39m \u001b[39m\"\u001b[39m\u001b[39mInterrupted by user\u001b[39m\u001b[39m\"\u001b[39m\n\u001b[0;32m-> <a href='file:///Users/lee/Library/Python/3.12/lib/python/site-packages/ipykernel/kernelbase.py?line=1244'>1245</a>\u001b[0m     \u001b[39mraise\u001b[39;00m \u001b[39mKeyboardInterrupt\u001b[39;00m(msg) \u001b[39mfrom\u001b[39;00m \u001b[39mNone\u001b[39;00m\n\u001b[1;32m   <a href='file:///Users/lee/Library/Python/3.12/lib/python/site-packages/ipykernel/kernelbase.py?line=1245'>1246</a>\u001b[0m \u001b[39mexcept\u001b[39;00m \u001b[39mException\u001b[39;00m:\n\u001b[1;32m   <a href='file:///Users/lee/Library/Python/3.12/lib/python/site-packages/ipykernel/kernelbase.py?line=1246'>1247</a>\u001b[0m     \u001b[39mself\u001b[39m\u001b[39m.\u001b[39mlog\u001b[39m.\u001b[39mwarning(\u001b[39m\"\u001b[39m\u001b[39mInvalid Message:\u001b[39m\u001b[39m\"\u001b[39m, exc_info\u001b[39m=\u001b[39m\u001b[39mTrue\u001b[39;00m)\n",
      "\u001b[0;31mKeyboardInterrupt\u001b[0m: Interrupted by user"
     ]
    }
   ],
   "source": [
    "import random\n",
    "\n",
    "number = random.randint(1,100)\n",
    "\n",
    "while True :\n",
    "    num = input('숫자 입력 : ')\n",
    "    num = int(num)\n",
    "    \n",
    "    if number < num :\n",
    "        print('Up')\n",
    "    elif num == number :\n",
    "        print('정답')\n",
    "        break\n",
    "    else :\n",
    "        print('Down')"
   ]
  },
  {
   "cell_type": "code",
   "execution_count": 41,
   "metadata": {},
   "outputs": [
    {
     "name": "stdout",
     "output_type": "stream",
     "text": [
      "Up\n",
      "Down\n",
      "Up\n",
      "Up\n",
      "Down\n",
      "정답\n"
     ]
    }
   ],
   "source": [
    "import random\n",
    "\n",
    "number = random.randint(1,100)\n",
    "\n",
    "while True :\n",
    "    num = input('숫자 입력 : ')\n",
    "    num = int(num)\n",
    "    \n",
    "    if number < num :\n",
    "        print('Down')\n",
    "    elif num == number :\n",
    "        print('정답')\n",
    "        break\n",
    "    else :\n",
    "        print('Up')"
   ]
  }
 ],
 "metadata": {
  "kernelspec": {
   "display_name": "Python 3",
   "language": "python",
   "name": "python3"
  },
  "language_info": {
   "codemirror_mode": {
    "name": "ipython",
    "version": 3
   },
   "file_extension": ".py",
   "mimetype": "text/x-python",
   "name": "python",
   "nbconvert_exporter": "python",
   "pygments_lexer": "ipython3",
   "version": "3.12.0"
  }
 },
 "nbformat": 4,
 "nbformat_minor": 2
}
