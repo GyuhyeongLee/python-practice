{
 "cells": [
  {
   "cell_type": "markdown",
   "metadata": {
    "isInteractiveWindowMessageCell": true
   },
   "source": [
    "Python 3.12.0에 연결됨"
   ]
  },
  {
   "cell_type": "code",
   "execution_count": 1,
   "metadata": {},
   "outputs": [],
   "source": [
    "#이차원 데이터"
   ]
  },
  {
   "cell_type": "code",
   "execution_count": 2,
   "metadata": {},
   "outputs": [],
   "source": [
    "apart = [\n",
    "    [101, 102],\n",
    "    [201, 202],\n",
    "    [301, 302]\n",
    "]"
   ]
  },
  {
   "cell_type": "code",
   "execution_count": 3,
   "metadata": {},
   "outputs": [
    {
     "name": "stdout",
     "output_type": "stream",
     "text": [
      "[101, 102]\n"
     ]
    }
   ],
   "source": [
    "print(apart[0]) #list type"
   ]
  },
  {
   "cell_type": "code",
   "execution_count": 4,
   "metadata": {},
   "outputs": [
    {
     "name": "stderr",
     "output_type": "stream",
     "text": [
      "<>:1: SyntaxWarning: 'int' object is not subscriptable; perhaps you missed a comma?\n",
      "<>:1: SyntaxWarning: 'int' object is not subscriptable; perhaps you missed a comma?\n",
      "<ipython-input-4-f288ec69e5e2>:1: SyntaxWarning: 'int' object is not subscriptable; perhaps you missed a comma?\n",
      "  print(apart[0[0]])\n"
     ]
    },
    {
     "ename": "TypeError",
     "evalue": "'int' object is not subscriptable",
     "output_type": "error",
     "traceback": [
      "\u001b[0;31m---------------------------------------------------------------------------\u001b[0m",
      "\u001b[0;31mTypeError\u001b[0m                                 Traceback (most recent call last)",
      "Cell \u001b[0;32mIn[4], line 1\u001b[0m\n\u001b[0;32m----> 1\u001b[0m \u001b[39mprint\u001b[39m(apart[\u001b[39m0\u001b[39;49m[\u001b[39m0\u001b[39;49m]])\n",
      "\u001b[0;31mTypeError\u001b[0m: 'int' object is not subscriptable"
     ]
    }
   ],
   "source": [
    "print(apart[0[0]])"
   ]
  },
  {
   "cell_type": "code",
   "execution_count": 5,
   "metadata": {},
   "outputs": [
    {
     "name": "stdout",
     "output_type": "stream",
     "text": [
      "101\n"
     ]
    }
   ],
   "source": [
    "일층 = apart[0]\n",
    "print(일층[0])"
   ]
  },
  {
   "cell_type": "code",
   "execution_count": 6,
   "metadata": {},
   "outputs": [
    {
     "name": "stdout",
     "output_type": "stream",
     "text": [
      "102\n"
     ]
    }
   ],
   "source": [
    "print(일층[1])"
   ]
  },
  {
   "cell_type": "code",
   "execution_count": 7,
   "metadata": {},
   "outputs": [
    {
     "name": "stdout",
     "output_type": "stream",
     "text": [
      "101\n"
     ]
    }
   ],
   "source": [
    "print(apart[0][0])"
   ]
  },
  {
   "cell_type": "code",
   "execution_count": 8,
   "metadata": {},
   "outputs": [
    {
     "name": "stdout",
     "output_type": "stream",
     "text": [
      "102\n"
     ]
    }
   ],
   "source": [
    "print(apart[0][1])"
   ]
  },
  {
   "cell_type": "code",
   "execution_count": 9,
   "metadata": {},
   "outputs": [],
   "source": [
    "#딕셔너리 중첩"
   ]
  },
  {
   "cell_type": "code",
   "execution_count": 10,
   "metadata": {},
   "outputs": [],
   "source": [
    "고객정보 = {\n",
    "    \"이름\" : \"조대표\",\n",
    "    \"나이\" : 40,\n",
    "    \"직업\" : \"직장인\",\n",
    "    \"주소\" : {\n",
    "        \"도\" : \"경기도\",\n",
    "        \"시\" : \"김포시\",\n",
    "        \"동\" : \"풍무동\"\n",
    "    }\n",
    "}"
   ]
  },
  {
   "cell_type": "code",
   "execution_count": 11,
   "metadata": {},
   "outputs": [
    {
     "name": "stdout",
     "output_type": "stream",
     "text": [
      "조대표\n",
      "경기도\n"
     ]
    }
   ],
   "source": [
    "print(고객정보[\"이름\"])\n",
    "print(고객정보[\"주소\"][\"도\"])"
   ]
  },
  {
   "cell_type": "code",
   "execution_count": 12,
   "metadata": {},
   "outputs": [],
   "source": [
    "리플 = [\n",
    "    [535, 565, 510, 533],   #2021-02-24\n",
    "    [533, 546, 493, 504],   #2021-02-25\n",
    "    [503, 518, 476, 409]    #2021-02-26\n",
    "]"
   ]
  },
  {
   "cell_type": "code",
   "execution_count": 13,
   "metadata": {},
   "outputs": [
    {
     "data": {
      "text/plain": [
       "533"
      ]
     },
     "execution_count": 13,
     "metadata": {},
     "output_type": "execute_result"
    }
   ],
   "source": [
    "리플[0][3]"
   ]
  },
  {
   "cell_type": "code",
   "execution_count": 14,
   "metadata": {},
   "outputs": [],
   "source": [
    "리플dict = {\n",
    "    \"시가\" : [535, 533, 503],   #2021-02-24\n",
    "    \"고가\" : [565, 546, 518],\n",
    "    \"저가\" : [510, 493, 476],\n",
    "    \"종가\" : [533, 504, 409]\n",
    "}"
   ]
  },
  {
   "cell_type": "code",
   "execution_count": 15,
   "metadata": {},
   "outputs": [
    {
     "data": {
      "text/plain": [
       "535"
      ]
     },
     "execution_count": 15,
     "metadata": {},
     "output_type": "execute_result"
    }
   ],
   "source": [
    "리플dict[\"시가\"][0]"
   ]
  },
  {
   "cell_type": "code",
   "execution_count": 16,
   "metadata": {},
   "outputs": [
    {
     "data": {
      "text/plain": [
       "[535, 533, 503]"
      ]
     },
     "execution_count": 16,
     "metadata": {},
     "output_type": "execute_result"
    }
   ],
   "source": [
    "리플dict[\"시가\"]"
   ]
  },
  {
   "cell_type": "code",
   "execution_count": 17,
   "metadata": {},
   "outputs": [],
   "source": [
    "리플dict = {\n",
    "    \"시가\" : {\n",
    "        \"2021-02-24\" : 535,\n",
    "        \"2021-02-25\" : 533,\n",
    "        \"2021-02-26\" : 503\n",
    "        },\n",
    "    \"고가\" : {\n",
    "        \"2021-02-24\" : 565,\n",
    "        \"2021-02-25\" : 546,\n",
    "        \"2021-02-26\" : 518\n",
    "        },\n",
    "    \"저가\" : {\n",
    "        \"2021-02-24\" : 510,\n",
    "        \"2021-02-25\" : 493,\n",
    "        \"2021-02-26\" : 476\n",
    "        },\n",
    "    \"종가\" : {\n",
    "        \"2021-02-24\" : 533,\n",
    "        \"2021-02-25\" : 504,\n",
    "        \"2021-02-26\" : 409\n",
    "        }\n",
    "}"
   ]
  },
  {
   "cell_type": "code",
   "execution_count": 18,
   "metadata": {},
   "outputs": [
    {
     "data": {
      "text/plain": [
       "533"
      ]
     },
     "execution_count": 18,
     "metadata": {},
     "output_type": "execute_result"
    }
   ],
   "source": [
    "리플dict[\"종가\"][\"2021-02-24\"]"
   ]
  },
  {
   "cell_type": "code",
   "execution_count": 19,
   "metadata": {},
   "outputs": [
    {
     "data": {
      "text/plain": [
       "{'2021-02-24': 565, '2021-02-25': 546, '2021-02-26': 518}"
      ]
     },
     "execution_count": 19,
     "metadata": {},
     "output_type": "execute_result"
    }
   ],
   "source": [
    "리플dict[\"고가\"]"
   ]
  },
  {
   "cell_type": "code",
   "execution_count": 20,
   "metadata": {},
   "outputs": [
    {
     "ename": "KeyError",
     "evalue": "518",
     "output_type": "error",
     "traceback": [
      "\u001b[0;31m---------------------------------------------------------------------------\u001b[0m",
      "\u001b[0;31mKeyError\u001b[0m                                  Traceback (most recent call last)",
      "Cell \u001b[0;32mIn[20], line 1\u001b[0m\n\u001b[0;32m----> 1\u001b[0m 리플dict[\u001b[39m\"\u001b[39;49m\u001b[39m고가\u001b[39;49m\u001b[39m\"\u001b[39;49m][\u001b[39m518\u001b[39;49m]\n",
      "\u001b[0;31mKeyError\u001b[0m: 518"
     ]
    }
   ],
   "source": [
    "리플dict[\"고가\"][518]"
   ]
  },
  {
   "cell_type": "code",
   "execution_count": 21,
   "metadata": {},
   "outputs": [
    {
     "data": {
      "text/plain": [
       "518"
      ]
     },
     "execution_count": 21,
     "metadata": {},
     "output_type": "execute_result"
    }
   ],
   "source": [
    "리플dict[\"고가\"][\"2021-02-26\"]"
   ]
  }
 ],
 "metadata": {
  "kernelspec": {
   "display_name": "Python 3",
   "language": "python",
   "name": "python3"
  },
  "language_info": {
   "codemirror_mode": {
    "name": "ipython",
    "version": 3
   },
   "file_extension": ".py",
   "mimetype": "text/x-python",
   "name": "python",
   "nbconvert_exporter": "python",
   "pygments_lexer": "ipython3",
   "version": "3.12.0"
  }
 },
 "nbformat": 4,
 "nbformat_minor": 2
}
