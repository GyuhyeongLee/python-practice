{
 "cells": [
  {
   "cell_type": "markdown",
   "metadata": {
    "isInteractiveWindowMessageCell": true
   },
   "source": [
    "Python 3.12.0에 연결됨"
   ]
  },
  {
   "cell_type": "code",
   "execution_count": 1,
   "metadata": {},
   "outputs": [
    {
     "name": "stdout",
     "output_type": "stream",
     "text": [
      "A\n"
     ]
    }
   ],
   "source": [
    "user = input(\"문자입력 : \")\n",
    "if user.islower() :\n",
    "    print(user.upper())\n",
    "else :\n",
    "    print(user.lower())"
   ]
  },
  {
   "cell_type": "code",
   "execution_count": 2,
   "metadata": {},
   "outputs": [
    {
     "name": "stdout",
     "output_type": "stream",
     "text": [
      "A\n"
     ]
    }
   ],
   "source": [
    "user = input('입력')\n",
    "score = int(user)\n",
    "if score > 80 :\n",
    "    print('A')\n",
    "elif score > 60 :\n",
    "    print('B')\n",
    "elif score > 40 :\n",
    "    print('C')\n",
    "elif score > 20 :\n",
    "    print('D')\n",
    "else :\n",
    "    print('E')"
   ]
  },
  {
   "cell_type": "code",
   "execution_count": 3,
   "metadata": {},
   "outputs": [
    {
     "name": "stdout",
     "output_type": "stream",
     "text": [
      "A\n"
     ]
    }
   ],
   "source": [
    "user = input('입력')\n",
    "score = int(user)\n",
    "if score > 80 :\n",
    "    print('A')\n",
    "elif score > 60 :\n",
    "    print('B')\n",
    "elif score > 40 :\n",
    "    print('C')\n",
    "elif score > 20 :\n",
    "    print('D')\n",
    "elif score > 0 :\n",
    "    print('E')\n",
    "else :\n",
    "    print('올지않을 값입니다.')"
   ]
  },
  {
   "cell_type": "code",
   "execution_count": 4,
   "metadata": {},
   "outputs": [
    {
     "name": "stdout",
     "output_type": "stream",
     "text": [
      "B\n"
     ]
    }
   ],
   "source": [
    "user = input('입력')\n",
    "score = int(user)\n",
    "if 100 > score > 80 :\n",
    "    print('A')\n",
    "elif score > 60 :\n",
    "    print('B')\n",
    "elif score > 40 :\n",
    "    print('C')\n",
    "elif score > 20 :\n",
    "    print('D')\n",
    "elif score > 0 :\n",
    "    print('E')\n",
    "else :\n",
    "    print('올지않을 값입니다.')"
   ]
  },
  {
   "cell_type": "code",
   "execution_count": 5,
   "metadata": {},
   "outputs": [
    {
     "name": "stdout",
     "output_type": "stream",
     "text": [
      "올지않을 값입니다.\n"
     ]
    }
   ],
   "source": [
    "user = input('입력')\n",
    "score = int(user)\n",
    "if 100 > score > 80 :\n",
    "    print('A')\n",
    "elif 80 > score > 60 :\n",
    "    print('B')\n",
    "elif 60 > score > 40 :\n",
    "    print('C')\n",
    "elif 40 > score > 20 :\n",
    "    print('D')\n",
    "elif 20 > score > 0 :\n",
    "    print('E')\n",
    "else :\n",
    "    print('올지않을 값입니다.')"
   ]
  },
  {
   "cell_type": "code",
   "execution_count": 6,
   "metadata": {},
   "outputs": [
    {
     "ename": "TypeError",
     "evalue": "slice indices must be integers or None or have an __index__ method",
     "output_type": "error",
     "traceback": [
      "\u001b[0;31m---------------------------------------------------------------------------\u001b[0m",
      "\u001b[0;31mTypeError\u001b[0m                                 Traceback (most recent call last)",
      "Cell \u001b[0;32mIn[6], line 3\u001b[0m\n\u001b[1;32m      1\u001b[0m user \u001b[39m=\u001b[39m \u001b[39minput\u001b[39m(\u001b[39m'\u001b[39m\u001b[39m금액\u001b[39m\u001b[39m'\u001b[39m)\n\u001b[0;32m----> 3\u001b[0m money \u001b[39m=\u001b[39m \u001b[39mint\u001b[39m(user[\u001b[39m0\u001b[39;49m:\u001b[39m'\u001b[39;49m\u001b[39m \u001b[39;49m\u001b[39m'\u001b[39;49m])\n\u001b[1;32m      4\u001b[0m 통화 \u001b[39m=\u001b[39m user[\u001b[39m'\u001b[39m\u001b[39m \u001b[39m\u001b[39m'\u001b[39m:]\n\u001b[1;32m      5\u001b[0m value \u001b[39m=\u001b[39m {\n\u001b[1;32m      6\u001b[0m     \u001b[39m'\u001b[39m\u001b[39m달러\u001b[39m\u001b[39m'\u001b[39m : \u001b[39m1167\u001b[39m,\n\u001b[1;32m      7\u001b[0m     \u001b[39m'\u001b[39m\u001b[39m엔\u001b[39m\u001b[39m'\u001b[39m : \u001b[39m1.096\u001b[39m,\n\u001b[1;32m      8\u001b[0m     \u001b[39m'\u001b[39m\u001b[39m유로\u001b[39m\u001b[39m'\u001b[39m : \u001b[39m1268\u001b[39m,\n\u001b[1;32m      9\u001b[0m     \u001b[39m'\u001b[39m\u001b[39m위안\u001b[39m\u001b[39m'\u001b[39m : \u001b[39m171\u001b[39m\n\u001b[1;32m     10\u001b[0m }\n",
      "\u001b[0;31mTypeError\u001b[0m: slice indices must be integers or None or have an __index__ method"
     ]
    }
   ],
   "source": [
    "\n",
    "user = input('금액')\n",
    "\n",
    "money = int(user[0:' '])\n",
    "통화 = user[' ':]\n",
    "value = {\n",
    "    '달러' : 1167,\n",
    "    '엔' : 1.096,\n",
    "    '유로' : 1268,\n",
    "    '위안' : 171\n",
    "}\n",
    "if 통화 in value['달러'] :\n",
    "    print(value.values()*money + '원')\n",
    "elif 통화 in value['엔'] :\n",
    "    print(value.values()*money + '원')\n",
    "elif 통화 in value['위안'] :\n",
    "    print(value.values()*money + '원')\n",
    "elif 통화 in value['유로'] :\n",
    "    print(value.values()*money + '원')"
   ]
  },
  {
   "cell_type": "code",
   "execution_count": 7,
   "metadata": {},
   "outputs": [],
   "source": [
    "환율 = {\n",
    "    '달러' : 1167,\n",
    "    '엔' : 1.096,\n",
    "    '유로' : 1268,\n",
    "    '위안' : 171\n",
    "}"
   ]
  },
  {
   "cell_type": "code",
   "execution_count": 8,
   "metadata": {},
   "outputs": [
    {
     "name": "stdout",
     "output_type": "stream",
     "text": [
      "109.60000000000001 원\n"
     ]
    }
   ],
   "source": [
    "user = input('입력 : ')\n",
    "num, currency = user.split()\n",
    "print(float(num) * 환율[currency], '원')"
   ]
  },
  {
   "cell_type": "code",
   "execution_count": 9,
   "metadata": {},
   "outputs": [
    {
     "name": "stdout",
     "output_type": "stream",
     "text": [
      "5435\n"
     ]
    }
   ],
   "source": [
    "num1 = input('입력 : ') \n",
    "num2 = input('입력 : ')\n",
    "num3 = input('입력 : ') # 3개를 받아야하니까 3번 작성\n",
    "num1 = int(num1)\n",
    "num2 = int(num2)\n",
    "num3 = int(num3) # 받은 숫자를 int로 변경\n",
    "\n",
    "if num1 >= num2 and num1 >= num3 :\n",
    "    print(num1)\n",
    "elif num2 >= num3 and num2 >= num1 :\n",
    "    print(num2)\n",
    "else :\n",
    "    print(num3)"
   ]
  },
  {
   "cell_type": "code",
   "execution_count": 10,
   "metadata": {},
   "outputs": [],
   "source": [
    "통신사 = {\n",
    "    '011' : 'SKT',\n",
    "    '016' : 'KT',\n",
    "    '019' : 'LGU',\n",
    "    '010' : '알수없음'\n",
    "}"
   ]
  },
  {
   "cell_type": "code",
   "execution_count": 11,
   "metadata": {},
   "outputs": [
    {
     "name": "stdout",
     "output_type": "stream",
     "text": [
      "당신은 알수없음 사용자입니다.\n"
     ]
    }
   ],
   "source": [
    "user = input('휴대전화 번호 입력 : ')\n",
    "phone = user.split('' or '-')[0]\n",
    "if phone == '011' :\n",
    "    com = 'SKT'\n",
    "elif phone == '016' :\n",
    "    com = 'KT'\n",
    "elif phone == '019' :\n",
    "    com = 'LGU'\n",
    "else :\n",
    "    com = '알수없음'\n",
    "print(f'당신은 {com} 사용자입니다.')"
   ]
  },
  {
   "cell_type": "code",
   "execution_count": 12,
   "metadata": {},
   "outputs": [
    {
     "name": "stdout",
     "output_type": "stream",
     "text": [
      "당신은 알수없음 사용자입니다.\n"
     ]
    }
   ],
   "source": [
    "user = input('휴대전화 번호 입력 : ')\n",
    "phone = user.split('' or '-')[0]\n",
    "if phone == '011' :\n",
    "    com = 'SKT'\n",
    "elif phone == '016' :\n",
    "    com = 'KT'\n",
    "elif phone == '019' :\n",
    "    com = 'LGU'\n",
    "else :\n",
    "    com = '알수없음'\n",
    "print(f'당신은 {com} 사용자입니다.')"
   ]
  },
  {
   "cell_type": "code",
   "execution_count": 13,
   "metadata": {},
   "outputs": [
    {
     "name": "stdout",
     "output_type": "stream",
     "text": [
      "당신은 SKT 사용자입니다.\n"
     ]
    }
   ],
   "source": [
    "user = input('휴대전화 번호 입력 : ')\n",
    "phone = user.split(' ' or '-')[0]\n",
    "if phone == '011' :\n",
    "    com = 'SKT'\n",
    "elif phone == '016' :\n",
    "    com = 'KT'\n",
    "elif phone == '019' :\n",
    "    com = 'LGU'\n",
    "else :\n",
    "    com = '알수없음'\n",
    "print(f'당신은 {com} 사용자입니다.')"
   ]
  },
  {
   "cell_type": "code",
   "execution_count": 14,
   "metadata": {},
   "outputs": [
    {
     "name": "stdout",
     "output_type": "stream",
     "text": [
      "도봉구\n"
     ]
    }
   ],
   "source": [
    "user = input('우편번호입력 : ')\n",
    "ad = int(user[2:3])\n",
    "if 0 <= ad <= 2 :\n",
    "    place = '강북구'\n",
    "elif 2 < ad <= 5 :\n",
    "    place = '도봉구'\n",
    "else :\n",
    "    place = '노원구'\n",
    "print(place)"
   ]
  },
  {
   "cell_type": "code",
   "execution_count": 15,
   "metadata": {},
   "outputs": [
    {
     "name": "stdout",
     "output_type": "stream",
     "text": [
      "강북구\n"
     ]
    }
   ],
   "source": [
    "user = input('우편번호입력 : ')\n",
    "ad = int(user[2:3])\n",
    "if 0 <= ad <= 2 :\n",
    "    place = '강북구'\n",
    "elif 2 < ad <= 5 :\n",
    "    place = '도봉구'\n",
    "else :\n",
    "    place = '노원구'\n",
    "print(place)"
   ]
  },
  {
   "cell_type": "code",
   "execution_count": 16,
   "metadata": {},
   "outputs": [
    {
     "name": "stdout",
     "output_type": "stream",
     "text": [
      "노원구\n"
     ]
    }
   ],
   "source": [
    "user = input('우편번호입력 : ')\n",
    "ad = int(user[2:3])\n",
    "if 0 <= ad <= 2 :\n",
    "    place = '강북구'\n",
    "elif 2 < ad <= 5 :\n",
    "    place = '도봉구'\n",
    "else :\n",
    "    place = '노원구'\n",
    "print(place)"
   ]
  },
  {
   "cell_type": "code",
   "execution_count": 17,
   "metadata": {},
   "outputs": [
    {
     "name": "stdout",
     "output_type": "stream",
     "text": [
      "노원구\n"
     ]
    }
   ],
   "source": [
    "우편번호 = input('우편번호 : ')\n",
    "우편번호 = 우편번호[0:3]\n",
    "if 우편번호 in ['010','011','012']:\n",
    "    print('강북구')\n",
    "elif 우편번호 in ['014','015','106']:\n",
    "    print('도봉구')\n",
    "else :\n",
    "    print('노원구')"
   ]
  },
  {
   "cell_type": "code",
   "execution_count": 18,
   "metadata": {},
   "outputs": [
    {
     "ename": "TypeError",
     "evalue": "int() argument must be a string, a bytes-like object or a real number, not 'list'",
     "output_type": "error",
     "traceback": [
      "\u001b[0;31m---------------------------------------------------------------------------\u001b[0m",
      "\u001b[0;31mTypeError\u001b[0m                                 Traceback (most recent call last)",
      "Cell \u001b[0;32mIn[18], line 2\u001b[0m\n\u001b[1;32m      1\u001b[0m user \u001b[39m=\u001b[39m \u001b[39minput\u001b[39m(\u001b[39m'\u001b[39m\u001b[39m주민등록번호\u001b[39m\u001b[39m'\u001b[39m)\n\u001b[0;32m----> 2\u001b[0m prf \u001b[39m=\u001b[39m \u001b[39mint\u001b[39;49m(user\u001b[39m.\u001b[39;49msplit(\u001b[39m'\u001b[39;49m\u001b[39m-\u001b[39;49m\u001b[39m'\u001b[39;49m))\n\u001b[1;32m      3\u001b[0m \u001b[39mif\u001b[39;00m prf[\u001b[39m1\u001b[39m][\u001b[39m0\u001b[39m] \u001b[39m==\u001b[39m \u001b[39m1\u001b[39m \u001b[39mor\u001b[39;00m \u001b[39m3\u001b[39m :\n\u001b[1;32m      4\u001b[0m     \u001b[39mprint\u001b[39m(\u001b[39m'\u001b[39m\u001b[39m남자\u001b[39m\u001b[39m'\u001b[39m)\n",
      "\u001b[0;31mTypeError\u001b[0m: int() argument must be a string, a bytes-like object or a real number, not 'list'"
     ]
    }
   ],
   "source": [
    "user = input('주민등록번호')\n",
    "prf = int(user.split('-'))\n",
    "if prf[1][0] == 1 or 3 :\n",
    "    print('남자')\n",
    "elif prf[1][0] == 2 or 4 :\n",
    "    print('여자')\n",
    "else :\n",
    "    print('잘못입력하셨습니다.')"
   ]
  },
  {
   "cell_type": "code",
   "execution_count": 19,
   "metadata": {},
   "outputs": [
    {
     "ename": "AttributeError",
     "evalue": "'str' object has no attribute 'list'",
     "output_type": "error",
     "traceback": [
      "\u001b[0;31m---------------------------------------------------------------------------\u001b[0m",
      "\u001b[0;31mAttributeError\u001b[0m                            Traceback (most recent call last)",
      "Cell \u001b[0;32mIn[19], line 2\u001b[0m\n\u001b[1;32m      1\u001b[0m user \u001b[39m=\u001b[39m \u001b[39minput\u001b[39m(\u001b[39m'\u001b[39m\u001b[39m주민등록번호\u001b[39m\u001b[39m'\u001b[39m)\n\u001b[0;32m----> 2\u001b[0m prf \u001b[39m=\u001b[39m \u001b[39mint\u001b[39m(user\u001b[39m.\u001b[39;49mlist())\n\u001b[1;32m      3\u001b[0m \u001b[39mif\u001b[39;00m prf[\u001b[39m6\u001b[39m] \u001b[39m==\u001b[39m \u001b[39m1\u001b[39m \u001b[39mor\u001b[39;00m \u001b[39m3\u001b[39m :\n\u001b[1;32m      4\u001b[0m     \u001b[39mprint\u001b[39m(\u001b[39m'\u001b[39m\u001b[39m남자\u001b[39m\u001b[39m'\u001b[39m)\n",
      "\u001b[0;31mAttributeError\u001b[0m: 'str' object has no attribute 'list'"
     ]
    }
   ],
   "source": [
    "user = input('주민등록번호')\n",
    "prf = int(user.list())\n",
    "if prf[6] == 1 or 3 :\n",
    "    print('남자')\n",
    "elif prf[6] == 2 or 4 :\n",
    "    print('여자')\n",
    "else :\n",
    "    print('잘못입력하셨습니다.')"
   ]
  },
  {
   "cell_type": "code",
   "execution_count": 20,
   "metadata": {},
   "outputs": [
    {
     "ename": "AttributeError",
     "evalue": "'str' object has no attribute 'list'",
     "output_type": "error",
     "traceback": [
      "\u001b[0;31m---------------------------------------------------------------------------\u001b[0m",
      "\u001b[0;31mAttributeError\u001b[0m                            Traceback (most recent call last)",
      "Cell \u001b[0;32mIn[20], line 2\u001b[0m\n\u001b[1;32m      1\u001b[0m user \u001b[39m=\u001b[39m \u001b[39minput\u001b[39m(\u001b[39m'\u001b[39m\u001b[39m주민등록번호\u001b[39m\u001b[39m'\u001b[39m)\n\u001b[0;32m----> 2\u001b[0m prf \u001b[39m=\u001b[39m user\u001b[39m.\u001b[39;49mlist()\n\u001b[1;32m      3\u001b[0m \u001b[39mif\u001b[39;00m prf[\u001b[39m6\u001b[39m] \u001b[39m==\u001b[39m \u001b[39m'\u001b[39m\u001b[39m1\u001b[39m\u001b[39m'\u001b[39m \u001b[39mor\u001b[39;00m \u001b[39m'\u001b[39m\u001b[39m3\u001b[39m\u001b[39m'\u001b[39m :\n\u001b[1;32m      4\u001b[0m     \u001b[39mprint\u001b[39m(\u001b[39m'\u001b[39m\u001b[39m남자\u001b[39m\u001b[39m'\u001b[39m)\n",
      "\u001b[0;31mAttributeError\u001b[0m: 'str' object has no attribute 'list'"
     ]
    }
   ],
   "source": [
    "user = input('주민등록번호')\n",
    "prf = user.list()\n",
    "if prf[6] == '1' or '3' :\n",
    "    print('남자')\n",
    "elif prf[6] == '2' or '4' :\n",
    "    print('여자')\n",
    "else :\n",
    "    print('잘못입력하셨습니다.')"
   ]
  },
  {
   "cell_type": "code",
   "execution_count": 21,
   "metadata": {},
   "outputs": [
    {
     "name": "stdout",
     "output_type": "stream",
     "text": [
      "잘못입력하셨습니다.\n"
     ]
    }
   ],
   "source": [
    "user = input('주민등록번호')\n",
    "prf = user.split('-')[1]\n",
    "if prf[0] == 1 or prf == 3 :\n",
    "    print('남자')\n",
    "elif prf[0] == 2 or prf == 4 :\n",
    "    print('여자')\n",
    "else :\n",
    "    print('잘못입력하셨습니다.')"
   ]
  },
  {
   "cell_type": "code",
   "execution_count": 22,
   "metadata": {},
   "outputs": [
    {
     "name": "stdout",
     "output_type": "stream",
     "text": [
      "남자\n"
     ]
    }
   ],
   "source": [
    "user = input('주민등록번호')\n",
    "prf = user.split('-')[1]\n",
    "if prf[0] == '1' or prf == '3' :\n",
    "    print('남자')\n",
    "elif prf[0] == '2' or prf == '4' :\n",
    "    print('여자')\n",
    "else :\n",
    "    print('잘못입력하셨습니다.')"
   ]
  },
  {
   "cell_type": "code",
   "execution_count": 23,
   "metadata": {},
   "outputs": [
    {
     "name": "stdout",
     "output_type": "stream",
     "text": [
      "서울이 아닙니다.\n"
     ]
    }
   ],
   "source": [
    "user = input('주민등록번호 : ')\n",
    "prf = user.split('-')[1]\n",
    "if 0 <= int(prf[1:3]) == 8:\n",
    "    print('서울입니다.')\n",
    "else :\n",
    "    print('서울이 아닙니다.')"
   ]
  },
  {
   "cell_type": "code",
   "execution_count": 24,
   "metadata": {},
   "outputs": [
    {
     "name": "stdout",
     "output_type": "stream",
     "text": [
      "부산입니다.\n"
     ]
    }
   ],
   "source": [
    "user = input('주민등록번호 : ')\n",
    "prf = user.split('-')[1]\n",
    "if 0 <= int(prf[1:3]) == 8:\n",
    "    print('서울입니다.')\n",
    "elif int(prf[1]) == 1 and int(prf[2]) == 9 or 0 or 1 or 2 :\n",
    "    print('부산입니다.')\n",
    "else :\n",
    "    print('서울이 아닙니다.')"
   ]
  },
  {
   "cell_type": "code",
   "execution_count": 25,
   "metadata": {},
   "outputs": [
    {
     "name": "stdout",
     "output_type": "stream",
     "text": [
      "부산입니다.\n"
     ]
    }
   ],
   "source": [
    "user = input('주민등록번호 : ')\n",
    "prf = user.split('-')[1]\n",
    "if 0 <= int(prf[1:3]) == 8:\n",
    "    print('서울입니다.')\n",
    "elif int(prf[1]) == 1 and int(prf[2]) == 9 or 0 or 1 or 2 :\n",
    "    print('부산입니다.')\n",
    "else :\n",
    "    print('서울이 아닙니다.')"
   ]
  },
  {
   "cell_type": "code",
   "execution_count": 26,
   "metadata": {},
   "outputs": [
    {
     "name": "stdout",
     "output_type": "stream",
     "text": [
      "부산입니다.\n"
     ]
    }
   ],
   "source": [
    "user = input('주민등록번호 : ')\n",
    "prf = user.split('-')[1]\n",
    "if 0 <= int(prf[1:3]) == 8:\n",
    "    print('서울입니다.')\n",
    "elif int(prf[1]) == 1 and int(prf[2]) == 9 or 0 or 1 or 2 :\n",
    "    print('부산입니다.')\n",
    "else :\n",
    "    print('서울이 아닙니다.')"
   ]
  },
  {
   "cell_type": "code",
   "execution_count": 27,
   "metadata": {},
   "outputs": [
    {
     "name": "stdout",
     "output_type": "stream",
     "text": [
      "부산입니다.\n"
     ]
    }
   ],
   "source": [
    "user = input('주민등록번호 : ')\n",
    "prf = user.split('-')[1]\n",
    "if 0 <= int(prf[2:3]) == 8:\n",
    "    print('서울입니다.')\n",
    "elif int(prf[1]) == 1 and int(prf[2]) == 9 or 0 or 1 or 2 :\n",
    "    print('부산입니다.')\n",
    "else :\n",
    "    print('서울이 아닙니다.')"
   ]
  },
  {
   "cell_type": "code",
   "execution_count": 28,
   "metadata": {},
   "outputs": [
    {
     "name": "stdout",
     "output_type": "stream",
     "text": [
      "서울이 아닙니다.\n"
     ]
    }
   ],
   "source": [
    "user = input('주민등록번호 : ')\n",
    "prf = user.split('-')[1]\n",
    "if 0 <= int(prf[2:3]) == 8:\n",
    "    print('서울입니다.')\n",
    "elif int(prf[1]) == 1 and int(prf[2]) == (9 or 0 or 1 or 2) :\n",
    "    print('부산입니다.')\n",
    "else :\n",
    "    print('서울이 아닙니다.')"
   ]
  },
  {
   "cell_type": "code",
   "execution_count": 29,
   "metadata": {},
   "outputs": [
    {
     "name": "stdout",
     "output_type": "stream",
     "text": [
      "서울입니다.\n"
     ]
    }
   ],
   "source": [
    "user = input('주민등록번호 : ')\n",
    "prf = user.split('-')[1]\n",
    "if 0 <= int(prf[2:3]) <= 8:\n",
    "    print('서울입니다.')\n",
    "elif int(prf[1]) == 1 and int(prf[2]) == (9 or 0 or 1 or 2) :\n",
    "    print('부산입니다.')\n",
    "else :\n",
    "    print('서울이 아닙니다.')"
   ]
  },
  {
   "cell_type": "code",
   "execution_count": 30,
   "metadata": {},
   "outputs": [
    {
     "name": "stdout",
     "output_type": "stream",
     "text": [
      "서울입니다.\n"
     ]
    }
   ],
   "source": [
    "user = input('주민등록번호 : ')\n",
    "prf = user.split('-')[1]\n",
    "if 0 <= int(prf[2:3]) <= 8:\n",
    "    print('서울입니다.')\n",
    "elif int(prf[1]) == 1 and int(prf[2]) == (9 or 0 or 1 or 2) :\n",
    "    print('부산입니다.')\n",
    "else :\n",
    "    print('서울이 아닙니다.')"
   ]
  },
  {
   "cell_type": "code",
   "execution_count": 31,
   "metadata": {},
   "outputs": [
    {
     "name": "stdout",
     "output_type": "stream",
     "text": [
      "서울입니다.\n"
     ]
    }
   ],
   "source": [
    "user = input('주민등록번호 : ')\n",
    "prf = user.split('-')[1]\n",
    "if 0 <= int(prf[2:3]) <= 8:\n",
    "    print('서울입니다.')\n",
    "elif int(prf[1]) == 1 and int(prf[2]) == [0,1,2,9] :\n",
    "    print('부산입니다.')\n",
    "else :\n",
    "    print('서울이 아닙니다.')"
   ]
  },
  {
   "cell_type": "code",
   "execution_count": 32,
   "metadata": {},
   "outputs": [
    {
     "name": "stdout",
     "output_type": "stream",
     "text": [
      "유효한 주민번호입니다.\n"
     ]
    }
   ],
   "source": [
    "num = input('주민등록번호 : ')\n",
    "계산1 = int(num[0]) * 2 + int(num[1]) * 3 + int(num[2]) * 4 + int(num[3]) * 5 + int(num[4]) * 6 + int(num[5]) * 7 + int(num[7]) * 8 + int(num[8]) * 9 + int(num[9]) * 2 + int(num[10]) * 3 + int(num[11]) * 4 + int(num[12]) * 5\n",
    "계산2 = 11 - (계산1 % 11)\n",
    "계산3 = str(계산2)\n",
    "\n",
    "if num[-1] == 계산3[-1] : \n",
    "    print('유효한 주민번호입니다.')\n",
    "else :\n",
    "    print('유효하지 않은 주민번호입니다.')"
   ]
  },
  {
   "cell_type": "code",
   "execution_count": 33,
   "metadata": {},
   "outputs": [
    {
     "name": "stdout",
     "output_type": "stream",
     "text": [
      "유효하지 않은 주민번호입니다.\n"
     ]
    }
   ],
   "source": [
    "num = input('주민등록번호 : ')\n",
    "계산1 = int(num[0]) * 2 + int(num[1]) * 3 + int(num[2]) * 4 + int(num[3]) * 5 + int(num[4]) * 6 + int(num[5]) * 7 + int(num[7]) * 8 + int(num[8]) * 9 + int(num[9]) * 2 + int(num[10]) * 3 + int(num[11]) * 4 + int(num[12]) * 5\n",
    "계산2 = 11 - (계산1 % 11)\n",
    "계산3 = str(계산2)\n",
    "\n",
    "if num[-1] == 계산3[-1] : \n",
    "    print('유효한 주민번호입니다.')\n",
    "else :\n",
    "    print('유효하지 않은 주민번호입니다.')"
   ]
  },
  {
   "cell_type": "code",
   "execution_count": 34,
   "metadata": {},
   "outputs": [
    {
     "ename": "ModuleNotFoundError",
     "evalue": "No module named 'requests'",
     "output_type": "error",
     "traceback": [
      "\u001b[0;31m---------------------------------------------------------------------------\u001b[0m",
      "\u001b[0;31mModuleNotFoundError\u001b[0m                       Traceback (most recent call last)",
      "Cell \u001b[0;32mIn[34], line 1\u001b[0m\n\u001b[0;32m----> 1\u001b[0m \u001b[39mimport\u001b[39;00m \u001b[39mrequests\u001b[39;00m\n\u001b[1;32m      2\u001b[0m btc \u001b[39m=\u001b[39m requests\u001b[39m.\u001b[39mget(\u001b[39m'\u001b[39m\u001b[39mhttps://api.bithumb.com/public/ticker/\u001b[39m\u001b[39m'\u001b[39m)\u001b[39m.\u001b[39mjson()[\u001b[39m'\u001b[39m\u001b[39mdata\u001b[39m\u001b[39m'\u001b[39m]\n",
      "\u001b[0;31mModuleNotFoundError\u001b[0m: No module named 'requests'"
     ]
    }
   ],
   "source": [
    "import requests\n",
    "btc = requests.get('https://api.bithumb.com/public/ticker/').json()['data']"
   ]
  },
  {
   "cell_type": "code",
   "execution_count": 35,
   "metadata": {},
   "outputs": [
    {
     "ename": "NameError",
     "evalue": "name 'requests' is not defined",
     "output_type": "error",
     "traceback": [
      "\u001b[0;31m---------------------------------------------------------------------------\u001b[0m",
      "\u001b[0;31mNameError\u001b[0m                                 Traceback (most recent call last)",
      "Cell \u001b[0;32mIn[35], line 1\u001b[0m\n\u001b[0;32m----> 1\u001b[0m btc \u001b[39m=\u001b[39m requests\u001b[39m.\u001b[39mget(\u001b[39m'\u001b[39m\u001b[39mhttps://api.bithumb.com/public/ticker/\u001b[39m\u001b[39m'\u001b[39m)\u001b[39m.\u001b[39mjson()[\u001b[39m'\u001b[39m\u001b[39mdata\u001b[39m\u001b[39m'\u001b[39m]\n\u001b[1;32m      3\u001b[0m 변동폭 \u001b[39m=\u001b[39m \u001b[39mfloat\u001b[39m(btc[\u001b[39m'\u001b[39m\u001b[39mmax_price\u001b[39m\u001b[39m'\u001b[39m]) \u001b[39m-\u001b[39m \u001b[39mfloat\u001b[39m(btc[\u001b[39m'\u001b[39m\u001b[39mmin_price\u001b[39m\u001b[39m'\u001b[39m])\n\u001b[1;32m      4\u001b[0m 시가 \u001b[39m=\u001b[39m \u001b[39mfloat\u001b[39m(btc[\u001b[39m'\u001b[39m\u001b[39mopening_price\u001b[39m\u001b[39m'\u001b[39m])\n",
      "\u001b[0;31mNameError\u001b[0m: name 'requests' is not defined"
     ]
    }
   ],
   "source": [
    "btc = requests.get('https://api.bithumb.com/public/ticker/').json()['data']\n",
    "\n",
    "변동폭 = float(btc['max_price']) - float(btc['min_price'])\n",
    "시가 = float(btc['opening_price'])\n",
    "최고가 = float(btc['max_price'])\n",
    "\n",
    "if(시가+변동폭) > 최고가 : \n",
    "    print('상승장')\n",
    "else :\n",
    "    print('하락장')"
   ]
  },
  {
   "cell_type": "code",
   "execution_count": 36,
   "metadata": {},
   "outputs": [
    {
     "ename": "ModuleNotFoundError",
     "evalue": "No module named 'requests'",
     "output_type": "error",
     "traceback": [
      "\u001b[0;31m---------------------------------------------------------------------------\u001b[0m",
      "\u001b[0;31mModuleNotFoundError\u001b[0m                       Traceback (most recent call last)",
      "Cell \u001b[0;32mIn[36], line 1\u001b[0m\n\u001b[0;32m----> 1\u001b[0m \u001b[39mimport\u001b[39;00m \u001b[39mrequests\u001b[39;00m\n\u001b[1;32m      2\u001b[0m btc \u001b[39m=\u001b[39m requests\u001b[39m.\u001b[39mget(\u001b[39m'\u001b[39m\u001b[39mhttps://api.bithumb.com/public/ticker/\u001b[39m\u001b[39m'\u001b[39m)\u001b[39m.\u001b[39mjson()[\u001b[39m'\u001b[39m\u001b[39mdata\u001b[39m\u001b[39m'\u001b[39m]\n\u001b[1;32m      4\u001b[0m 변동폭 \u001b[39m=\u001b[39m \u001b[39mfloat\u001b[39m(btc[\u001b[39m'\u001b[39m\u001b[39mmax_price\u001b[39m\u001b[39m'\u001b[39m]) \u001b[39m-\u001b[39m \u001b[39mfloat\u001b[39m(btc[\u001b[39m'\u001b[39m\u001b[39mmin_price\u001b[39m\u001b[39m'\u001b[39m])\n",
      "\u001b[0;31mModuleNotFoundError\u001b[0m: No module named 'requests'"
     ]
    }
   ],
   "source": [
    "import requests\n",
    "btc = requests.get('https://api.bithumb.com/public/ticker/').json()['data']\n",
    "\n",
    "변동폭 = float(btc['max_price']) - float(btc['min_price'])\n",
    "시가 = float(btc['opening_price'])\n",
    "최고가 = float(btc['max_price'])\n",
    "\n",
    "if(시가+변동폭) > 최고가 : \n",
    "    print('상승장')\n",
    "else :\n",
    "    print('하락장')"
   ]
  }
 ],
 "metadata": {
  "kernelspec": {
   "display_name": "Python 3",
   "language": "python",
   "name": "python3"
  },
  "language_info": {
   "codemirror_mode": {
    "name": "ipython",
    "version": 3
   },
   "file_extension": ".py",
   "mimetype": "text/x-python",
   "name": "python",
   "nbconvert_exporter": "python",
   "pygments_lexer": "ipython3",
   "version": "3.12.0"
  }
 },
 "nbformat": 4,
 "nbformat_minor": 2
}
